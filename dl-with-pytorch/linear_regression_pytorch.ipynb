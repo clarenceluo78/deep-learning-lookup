{
 "cells": [
  {
   "cell_type": "code",
   "execution_count": 1,
   "metadata": {},
   "outputs": [],
   "source": [
    "import numpy as np\n",
    "import torch\n",
    "from torch.utils import data\n",
    "import lib"
   ]
  },
  {
   "cell_type": "code",
   "execution_count": 3,
   "metadata": {},
   "outputs": [],
   "source": [
    "true_w = torch.tensor([2, -3.4])\n",
    "true_b = 4.2\n",
    "features, labels = lib.synthetic_regression_data(true_w, true_b, 1000)"
   ]
  },
  {
   "cell_type": "code",
   "execution_count": 4,
   "metadata": {},
   "outputs": [
    {
     "data": {
      "text/plain": [
       "[tensor([[-1.5912,  1.0556],\n",
       "         [ 1.7796, -0.3448],\n",
       "         [-1.0798, -0.0881],\n",
       "         [-0.8393,  0.6912],\n",
       "         [ 0.9323,  0.2233],\n",
       "         [ 0.8296,  2.1649],\n",
       "         [-0.3589,  0.9995],\n",
       "         [-0.3545,  0.2075],\n",
       "         [-0.5850, -0.5749],\n",
       "         [-1.4835,  0.8104]]),\n",
       " tensor([[-2.5782],\n",
       "         [ 8.9322],\n",
       "         [ 2.3293],\n",
       "         [ 0.1802],\n",
       "         [ 5.3251],\n",
       "         [-1.4981],\n",
       "         [ 0.0831],\n",
       "         [ 2.7744],\n",
       "         [ 5.0079],\n",
       "         [-1.5260]])]"
      ]
     },
     "execution_count": 4,
     "metadata": {},
     "output_type": "execute_result"
    }
   ],
   "source": [
    "def load_array(data_arrays, batch_size, is_train=True):  #@save\n",
    "    \"\"\"a pytorch data loader\"\"\"\n",
    "    dataset = data.TensorDataset(*data_arrays)\n",
    "    return data.DataLoader(dataset, batch_size, shuffle=is_train)\n",
    "\n",
    "batch_size = 10\n",
    "data_iter = load_array((features, labels), batch_size)\n",
    "# get the first minibatch\n",
    "next(iter(data_iter))"
   ]
  },
  {
   "cell_type": "code",
   "execution_count": 5,
   "metadata": {},
   "outputs": [
    {
     "data": {
      "text/plain": [
       "tensor([0.])"
      ]
     },
     "execution_count": 5,
     "metadata": {},
     "output_type": "execute_result"
    }
   ],
   "source": [
    "# define the model with nn\n",
    "from torch import nn\n",
    "\n",
    "net = nn.Sequential(nn.Linear(2, 1))\n",
    "\n",
    "# initialize model parameters\n",
    "net[0].weight.data.normal_(0, 0.01)\n",
    "net[0].bias.data.fill_(0)"
   ]
  },
  {
   "cell_type": "code",
   "execution_count": 6,
   "metadata": {},
   "outputs": [],
   "source": [
    "# define loss\n",
    "loss = nn.MSELoss()\n",
    "# define optimizer\n",
    "trainer = torch.optim.SGD(net.parameters(), lr=0.03)"
   ]
  },
  {
   "cell_type": "code",
   "execution_count": 7,
   "metadata": {},
   "outputs": [
    {
     "name": "stdout",
     "output_type": "stream",
     "text": [
      "epoch 1, loss 0.000299\n",
      "epoch 2, loss 0.000102\n",
      "epoch 3, loss 0.000101\n"
     ]
    }
   ],
   "source": [
    "# training\n",
    "num_epochs = 3\n",
    "for epoch in range(num_epochs):\n",
    "    for X, y in data_iter:\n",
    "        l = loss(net(X) ,y)\n",
    "        trainer.zero_grad()\n",
    "        l.backward()\n",
    "        trainer.step()\n",
    "    l = loss(net(features), labels)\n",
    "    print(f'epoch {epoch + 1}, loss {l:f}')"
   ]
  },
  {
   "cell_type": "code",
   "execution_count": 8,
   "metadata": {},
   "outputs": [
    {
     "name": "stdout",
     "output_type": "stream",
     "text": [
      "error of w： tensor([ 0.0001, -0.0008])\n",
      "error of b： tensor([4.4823e-05])\n"
     ]
    }
   ],
   "source": [
    "w = net[0].weight.data\n",
    "print('error of w：', true_w - w.reshape(true_w.shape))\n",
    "b = net[0].bias.data\n",
    "print('error of b：', true_b - b)"
   ]
  }
 ],
 "metadata": {
  "kernelspec": {
   "display_name": "Python 3.8.13 ('mdl_py38')",
   "language": "python",
   "name": "python3"
  },
  "language_info": {
   "codemirror_mode": {
    "name": "ipython",
    "version": 3
   },
   "file_extension": ".py",
   "mimetype": "text/x-python",
   "name": "python",
   "nbconvert_exporter": "python",
   "pygments_lexer": "ipython3",
   "version": "3.8.13"
  },
  "orig_nbformat": 4,
  "vscode": {
   "interpreter": {
    "hash": "32efaf29b6f1944b0ee1d184566db05500f3bfbe0edfe99e5f5b4acfd4b8fef3"
   }
  }
 },
 "nbformat": 4,
 "nbformat_minor": 2
}
