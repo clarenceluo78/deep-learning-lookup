{
 "cells": [
  {
   "cell_type": "markdown",
   "id": "18c35b6e",
   "metadata": {},
   "source": [
    "# DDA4210 Tutorial 7: Generative Models"
   ]
  },
  {
   "cell_type": "markdown",
   "id": "465d6c27",
   "metadata": {},
   "source": [
    "1. TA: Dong QIAO\n",
    "2. Email: dongqiao@link.cuhk.edu.cn\n",
    "3. Office: Big Room 74, SDS Research Space on 4th Floor of Zhixin Bldg\n",
    "4. Version: Beta"
   ]
  },
  {
   "cell_type": "markdown",
   "id": "e97936f1",
   "metadata": {},
   "source": [
    "# Introduction to Generative Adversarial Networks"
   ]
  },
  {
   "cell_type": "markdown",
   "id": "8a389c4e",
   "metadata": {},
   "source": [
    "1. Generative Adversarial Networks is a kind of well-known and popular generative model designed by Ian J. Goodfellow and his colleagues in June 2014.\n",
    "\n",
    "2. Inspired by game theory, GAN estimates generator via an adversarial process, in which we simultaneously train two neural networks\n",
    "\n",
    "    * A generator $G$ that is trained to capture the real data distribution so that the generated samples can be as real as possible.\n",
    "    * A discriminator $D$ that estimates the probability that a sample came from the training data rather than the generator $G$.\n",
    "    * Adversarial process: training $D$ to maximize the probability of assigning the correct label to both training examples and samples from $G$ and simultaneously training $G$ to maximize the probability of $D$ making a mistake.\n",
    "    \n",
    "3. Training steps:\n",
    "    * Fix parameters of generator $G$, train discriminator $D$\n",
    "    * Fix parameters of discriminator $D$, train generator $G$\n",
    "    * Repeat step 1, 2\n",
    "    \n",
    "4. $D$ and $G$ play the following two-player minimax game with loss function $\\mathcal{L}(G, D)$:\n",
    "   $$\\min_G \\max_D \\mathcal{L}(D, G) = \\mathbb{E}_{\\mathbf{x} \\sim p_r(\\mathbf{x})}[\\log D(\\mathbf{x})] + \\mathbb{E}_{\\mathbf{z} \\sim p_z(\\mathbf{z})}[\\log(1 - D(G(\\mathbf{z})))]$$"
   ]
  },
  {
   "cell_type": "markdown",
   "id": "1b8499f0",
   "metadata": {},
   "source": [
    "# Table of Contents"
   ]
  },
  {
   "cell_type": "markdown",
   "id": "c90c57f6",
   "metadata": {},
   "source": [
    "1. Import packages\n",
    "2. Inputs\n",
    "3. Load dataset\n",
    "4. Custom weights initialization\n",
    "5. Define our model - Generator & Discriminator\n",
    "6. Initialize BCELoss function and optimizers\n",
    "7. Training\n",
    "8. Results"
   ]
  },
  {
   "cell_type": "markdown",
   "id": "c5d69607",
   "metadata": {},
   "source": [
    "# Implementation"
   ]
  },
  {
   "cell_type": "markdown",
   "id": "f3ea3fb8",
   "metadata": {},
   "source": [
    "With our input parameters set and the dataset prepared, we can now get into the implementation. We will start with the weight initialization strategy, then talk about the generator, discriminator, loss functions, and training loop in detail."
   ]
  },
  {
   "cell_type": "markdown",
   "id": "91743fc3",
   "metadata": {},
   "source": [
    "## Import packages"
   ]
  },
  {
   "cell_type": "code",
   "execution_count": null,
   "id": "31b14b42",
   "metadata": {},
   "outputs": [],
   "source": [
    "from __future__ import print_function\n",
    "#%matplotlib inline\n",
    "import argparse\n",
    "import os\n",
    "import random\n",
    "import torch\n",
    "import torch.nn as nn\n",
    "import torch.nn.parallel\n",
    "import torch.backends.cudnn as cudnn\n",
    "import torch.optim as optim\n",
    "import torch.utils.data\n",
    "import torchvision.datasets as dset\n",
    "import torchvision.transforms as transforms\n",
    "import torchvision.utils as vutils\n",
    "import numpy as np\n",
    "import matplotlib.pyplot as plt\n",
    "import matplotlib.animation as animation\n",
    "from IPython.display import HTML\n",
    "\n",
    "# Set random seed for reproducibility\n",
    "manualSeed = 999\n",
    "#manualSeed = random.randint(1, 10000) # use if you want new results\n",
    "print(\"Random Seed: \", manualSeed)\n",
    "random.seed(manualSeed)\n",
    "torch.manual_seed(manualSeed)"
   ]
  },
  {
   "cell_type": "markdown",
   "id": "6c8df65c",
   "metadata": {},
   "source": [
    "## Inputs"
   ]
  },
  {
   "cell_type": "code",
   "execution_count": null,
   "id": "84c9dbae",
   "metadata": {},
   "outputs": [],
   "source": [
    "# Root directory for dataset\n",
    "dataroot = \"data/celeba\"\n",
    "\n",
    "# Number of workers for dataloader\n",
    "workers = 2\n",
    "\n",
    "# Batch size during training\n",
    "batch_size = 128\n",
    "\n",
    "# Spatial size of training images. All images will be resized to this\n",
    "#   size using a transformer.\n",
    "image_size = 64\n",
    "\n",
    "# Number of channels in the training images. For color images this is 3\n",
    "nc = 3\n",
    "\n",
    "# Size of z latent vector (i.e. size of generator input)\n",
    "nz = 100\n",
    "\n",
    "# Size of feature maps in generator\n",
    "ngf = 64\n",
    "\n",
    "# Size of feature maps in discriminator\n",
    "ndf = 64\n",
    "\n",
    "# Number of training epochs\n",
    "num_epochs = 5\n",
    "\n",
    "# Learning rate for optimizers\n",
    "lr = 0.0002\n",
    "\n",
    "# Beta1 hyperparam for Adam optimizers\n",
    "beta1 = 0.5\n",
    "\n",
    "# Number of GPUs available. Use 0 for CPU mode.\n",
    "ngpu = 1"
   ]
  },
  {
   "cell_type": "markdown",
   "id": "05d6d693",
   "metadata": {},
   "source": [
    "## Load dataset"
   ]
  },
  {
   "cell_type": "code",
   "execution_count": null,
   "id": "b77883c8",
   "metadata": {},
   "outputs": [],
   "source": [
    "# We can use an image folder dataset the way we have it setup.\n",
    "# Create the dataset\n",
    "dataset = dset.ImageFolder(root=dataroot,\n",
    "                           transform=transforms.Compose([\n",
    "                               transforms.Resize(image_size),\n",
    "                               transforms.CenterCrop(image_size),\n",
    "                               transforms.ToTensor(),\n",
    "                               transforms.Normalize((0.5, 0.5, 0.5), (0.5, 0.5, 0.5)),\n",
    "                           ]))\n",
    "# Create the dataloader\n",
    "dataloader = torch.utils.data.DataLoader(dataset, batch_size=batch_size,\n",
    "                                         shuffle=True, num_workers=workers)\n",
    "\n",
    "# Decide which device we want to run on\n",
    "device = torch.device(\"cuda:0\" if (torch.cuda.is_available() and ngpu > 0) else \"cpu\")\n",
    "\n",
    "# Plot some training images\n",
    "real_batch = next(iter(dataloader))\n",
    "plt.figure(figsize=(8,8))\n",
    "plt.axis(\"off\")\n",
    "plt.title(\"Training Images\")\n",
    "plt.imshow(np.transpose(vutils.make_grid(real_batch[0].to(device)[:64], padding=2, normalize=True).cpu(),(1,2,0)))"
   ]
  },
  {
   "cell_type": "markdown",
   "id": "3686deed",
   "metadata": {},
   "source": [
    "## Custom weights initialization"
   ]
  },
  {
   "cell_type": "markdown",
   "id": "4c856d0a",
   "metadata": {},
   "source": [
    "From the DCGAN paper, the authors specify that all model weights shall\n",
    "be randomly initialized from a Normal distribution with mean=0,\n",
    "stdev=0.02. The ``weights_init`` function takes an initialized model as\n",
    "input and reinitializes all convolutional, convolutional-transpose, and\n",
    "batch normalization layers to meet this criteria. This function is\n",
    "applied to the models immediately after initialization."
   ]
  },
  {
   "cell_type": "code",
   "execution_count": null,
   "id": "2257debd",
   "metadata": {},
   "outputs": [],
   "source": [
    "# custom weights initialization called on netG and netD\n",
    "def weights_init(m):\n",
    "    classname = m.__class__.__name__\n",
    "    if classname.find('Conv') != -1:\n",
    "        nn.init.normal_(m.weight.data, 0.0, 0.02)\n",
    "    elif classname.find('BatchNorm') != -1:\n",
    "        nn.init.normal_(m.weight.data, 1.0, 0.02)\n",
    "        nn.init.constant_(m.bias.data, 0)"
   ]
  },
  {
   "cell_type": "markdown",
   "id": "becf3a3b",
   "metadata": {},
   "source": [
    "## Define our model"
   ]
  },
  {
   "cell_type": "markdown",
   "id": "0bcdb794",
   "metadata": {},
   "source": [
    "### Generator"
   ]
  },
  {
   "cell_type": "markdown",
   "id": "6eb93db2",
   "metadata": {},
   "source": [
    "The generator, $G$, is designed to map the latent space vector\n",
    "($z$) to data-space. Since our data are images, converting\n",
    "$z$ to data-space means ultimately creating a RGB image with the\n",
    "same size as the training images (i.e. 3x64x64). In practice, this is\n",
    "accomplished through a series of strided two dimensional convolutional\n",
    "transpose layers, each paired with a 2d batch norm layer and a relu\n",
    "activation. The output of the generator is fed through a tanh function\n",
    "to return it to the input data range of $[-1,1]$. It is worth\n",
    "noting the existence of the batch norm functions after the\n",
    "conv-transpose layers, as this is a critical contribution of the DCGAN\n",
    "paper. These layers help with the flow of gradients during training. An\n",
    "image of the generator from the DCGAN paper is shown below.\n",
    "\n",
    "<img src = 'tex/dcgan_generator.png' />\n",
    "\n",
    "Notice, how the inputs we set in the input section (*nz*, *ngf*, and\n",
    "*nc*) influence the generator architecture in code. *nz* is the length\n",
    "of the z input vector, *ngf* relates to the size of the feature maps\n",
    "that are propagated through the generator, and *nc* is the number of\n",
    "channels in the output image (set to 3 for RGB images). Below is the\n",
    "code for the generator."
   ]
  },
  {
   "cell_type": "code",
   "execution_count": null,
   "id": "f1293708",
   "metadata": {},
   "outputs": [],
   "source": [
    "# Generator Code\n",
    "\n",
    "class Generator(nn.Module):\n",
    "    def __init__(self, ngpu):\n",
    "        super(Generator, self).__init__()\n",
    "        self.ngpu = ngpu\n",
    "        self.main = nn.Sequential(\n",
    "            # input is Z, going into a convolution\n",
    "            nn.ConvTranspose2d( nz, ngf * 8, 4, 1, 0, bias=False),\n",
    "            nn.BatchNorm2d(ngf * 8),\n",
    "            nn.ReLU(True),\n",
    "            # state size. (ngf*8) x 4 x 4\n",
    "            nn.ConvTranspose2d(ngf * 8, ngf * 4, 4, 2, 1, bias=False),\n",
    "            nn.BatchNorm2d(ngf * 4),\n",
    "            nn.ReLU(True),\n",
    "            # state size. (ngf*4) x 8 x 8\n",
    "            nn.ConvTranspose2d( ngf * 4, ngf * 2, 4, 2, 1, bias=False),\n",
    "            nn.BatchNorm2d(ngf * 2),\n",
    "            nn.ReLU(True),\n",
    "            # state size. (ngf*2) x 16 x 16\n",
    "            nn.ConvTranspose2d( ngf * 2, ngf, 4, 2, 1, bias=False),\n",
    "            nn.BatchNorm2d(ngf),\n",
    "            nn.ReLU(True),\n",
    "            # state size. (ngf) x 32 x 32\n",
    "            nn.ConvTranspose2d( ngf, nc, 4, 2, 1, bias=False),\n",
    "            nn.Tanh()\n",
    "            # state size. (nc) x 64 x 64\n",
    "        )\n",
    "\n",
    "    def forward(self, input):\n",
    "        return self.main(input)"
   ]
  },
  {
   "cell_type": "code",
   "execution_count": null,
   "id": "1fcfffaa",
   "metadata": {},
   "outputs": [],
   "source": [
    "# Create the generator\n",
    "netG = Generator(ngpu).to(device)\n",
    "\n",
    "# Handle multi-gpu if desired\n",
    "if (device.type == 'cuda') and (ngpu > 1):\n",
    "    netG = nn.DataParallel(netG, list(range(ngpu)))\n",
    "\n",
    "# Apply the weights_init function to randomly initialize all weights\n",
    "#  to mean=0, stdev=0.02.\n",
    "netG.apply(weights_init)\n",
    "\n",
    "# Print the model\n",
    "print(netG)"
   ]
  },
  {
   "cell_type": "markdown",
   "id": "b735f4ce",
   "metadata": {},
   "source": [
    "### Discriminator"
   ]
  },
  {
   "cell_type": "markdown",
   "id": "2fd43e14",
   "metadata": {},
   "source": [
    "As mentioned, the discriminator, $D$, is a binary classification\n",
    "network that takes an image as input and outputs a scalar probability\n",
    "that the input image is real (as opposed to fake). Here, $D$ takes\n",
    "a 3x64x64 input image, processes it through a series of Conv2d,\n",
    "BatchNorm2d, and LeakyReLU layers, and outputs the final probability\n",
    "through a Sigmoid activation function. This architecture can be extended\n",
    "with more layers if necessary for the problem, but there is significance\n",
    "to the use of the strided convolution, BatchNorm, and LeakyReLUs. The\n",
    "DCGAN paper mentions it is a good practice to use strided convolution\n",
    "rather than pooling to downsample because it lets the network learn its\n",
    "own pooling function. Also batch norm and leaky relu functions promote\n",
    "healthy gradient flow which is critical for the learning process of both\n",
    "$G$ and $D$."
   ]
  },
  {
   "cell_type": "code",
   "execution_count": null,
   "id": "788c8775",
   "metadata": {},
   "outputs": [],
   "source": [
    "class Discriminator(nn.Module):\n",
    "    def __init__(self, ngpu):\n",
    "        super(Discriminator, self).__init__()\n",
    "        self.ngpu = ngpu\n",
    "        self.main = nn.Sequential(\n",
    "            # input is (nc) x 64 x 64\n",
    "            nn.Conv2d(nc, ndf, 4, 2, 1, bias=False),\n",
    "            nn.LeakyReLU(0.2, inplace=True),\n",
    "            # state size. (ndf) x 32 x 32\n",
    "            nn.Conv2d(ndf, ndf * 2, 4, 2, 1, bias=False),\n",
    "            nn.BatchNorm2d(ndf * 2),\n",
    "            nn.LeakyReLU(0.2, inplace=True),\n",
    "            # state size. (ndf*2) x 16 x 16\n",
    "            nn.Conv2d(ndf * 2, ndf * 4, 4, 2, 1, bias=False),\n",
    "            nn.BatchNorm2d(ndf * 4),\n",
    "            nn.LeakyReLU(0.2, inplace=True),\n",
    "            # state size. (ndf*4) x 8 x 8\n",
    "            nn.Conv2d(ndf * 4, ndf * 8, 4, 2, 1, bias=False),\n",
    "            nn.BatchNorm2d(ndf * 8),\n",
    "            nn.LeakyReLU(0.2, inplace=True),\n",
    "            # state size. (ndf*8) x 4 x 4\n",
    "            nn.Conv2d(ndf * 8, 1, 4, 1, 0, bias=False),\n",
    "            nn.Sigmoid()\n",
    "        )\n",
    "\n",
    "    def forward(self, input):\n",
    "        return self.main(input)"
   ]
  },
  {
   "cell_type": "code",
   "execution_count": null,
   "id": "6d3b2fb3",
   "metadata": {},
   "outputs": [],
   "source": [
    "# Create the Discriminator\n",
    "netD = Discriminator(ngpu).to(device)\n",
    "\n",
    "# Handle multi-gpu if desired\n",
    "if (device.type == 'cuda') and (ngpu > 1):\n",
    "    netD = nn.DataParallel(netD, list(range(ngpu)))\n",
    "\n",
    "# Apply the weights_init function to randomly initialize all weights\n",
    "#  to mean=0, stdev=0.2.\n",
    "netD.apply(weights_init)\n",
    "\n",
    "# Print the model\n",
    "print(netD)"
   ]
  },
  {
   "cell_type": "markdown",
   "id": "d353e338",
   "metadata": {},
   "source": [
    "## Initialize BCELoss function and optimizers"
   ]
  },
  {
   "cell_type": "markdown",
   "id": "b31dc9bc",
   "metadata": {},
   "source": [
    "With $D$ and $G$ setup, we can specify how they learn\n",
    "through the loss functions and optimizers. We will use the Binary Cross\n",
    "Entropy loss\n",
    "([BCELoss](https://pytorch.org/docs/stable/nn.html#torch.nn.BCELoss)_)\n",
    "function which is defined in PyTorch as:\n",
    "\n",
    "\\begin{align}\\ell(x, y) = L = \\{l_1,\\dots,l_N\\}^\\top, \\quad l_n = - \\left[ y_n \\cdot \\log x_n + (1 - y_n) \\cdot \\log (1 - x_n) \\right]\\end{align}\n",
    "\n",
    "Notice how this function provides the calculation of both log components\n",
    "in the objective function (i.e. $log(D(x))$ and\n",
    "$log(1-D(G(z)))$). We can specify what part of the BCE equation to\n",
    "use with the $y$ input. This is accomplished in the training loop\n",
    "which is coming up soon, but it is important to understand how we can\n",
    "choose which component we wish to calculate just by changing $y$\n",
    "(i.e. GT labels).\n",
    "\n",
    "Next, we define our real label as 1 and the fake label as 0. These\n",
    "labels will be used when calculating the losses of $D$ and\n",
    "$G$, and this is also the convention used in the original GAN\n",
    "paper. Finally, we set up two separate optimizers, one for $D$ and\n",
    "one for $G$. As specified in the DCGAN paper, both are Adam\n",
    "optimizers with learning rate 0.0002 and Beta1 = 0.5. For keeping track\n",
    "of the generator’s learning progression, we will generate a fixed batch\n",
    "of latent vectors that are drawn from a Gaussian distribution\n",
    "(i.e. fixed_noise) . In the training loop, we will periodically input\n",
    "this fixed_noise into $G$, and over the iterations we will see\n",
    "images form out of the noise."
   ]
  },
  {
   "cell_type": "code",
   "execution_count": null,
   "id": "d846add4",
   "metadata": {},
   "outputs": [],
   "source": [
    "# Initialize BCELoss function\n",
    "\n",
    "################################\n",
    "# Start: loss function\n",
    "################################\n",
    "pass\n",
    "################################\n",
    "# End: loss function\n",
    "################################\n",
    "\n",
    "# Create batch of latent vectors that we will use to visualize\n",
    "#  the progression of the generator\n",
    "fixed_noise = torch.randn(64, nz, 1, 1, device=device)\n",
    "\n",
    "# Establish convention for real and fake labels during training\n",
    "################################\n",
    "# Start: loss function\n",
    "################################\n",
    "real_label = 1.\n",
    "fake_label = 0.\n",
    "################################\n",
    "# Start: loss function\n",
    "################################\n",
    "\n",
    "# Setup Adam optimizers for both G and D\n",
    "optimizerD = optim.Adam(netD.parameters(), lr=lr, betas=(beta1, 0.999))\n",
    "optimizerG = optim.Adam(netG.parameters(), lr=lr, betas=(beta1, 0.999))"
   ]
  },
  {
   "cell_type": "markdown",
   "id": "13cecec2",
   "metadata": {},
   "source": [
    "## Training"
   ]
  },
  {
   "cell_type": "markdown",
   "id": "59338c5e",
   "metadata": {},
   "source": [
    "Finally, now that we have all of the parts of the GAN framework defined,\n",
    "we can train it. Be mindful that training GANs is somewhat of an art\n",
    "form, as incorrect hyperparameter settings lead to mode collapse with\n",
    "little explanation of what went wrong. Here, we will closely follow\n",
    "Algorithm 1 from Goodfellow’s paper, while abiding by some of the best\n",
    "practices shown in [ganhacks](https://github.com/soumith/ganhacks)_.\n",
    "Namely, we will “construct different mini-batches for real and fake”\n",
    "images, and also adjust G’s objective function to maximize\n",
    "$logD(G(z))$. Training is split up into two main parts. Part 1\n",
    "updates the Discriminator and Part 2 updates the Generator.\n",
    "\n",
    "**Part 1 - Train the Discriminator**\n",
    "\n",
    "Recall, the goal of training the discriminator is to maximize the\n",
    "probability of correctly classifying a given input as real or fake. In\n",
    "terms of Goodfellow, we wish to “update the discriminator by ascending\n",
    "its stochastic gradient”. Practically, we want to maximize\n",
    "$log(D(x)) + log(1-D(G(z)))$. Due to the separate mini-batch\n",
    "suggestion from ganhacks, we will calculate this in two steps. First, we\n",
    "will construct a batch of real samples from the training set, forward\n",
    "pass through $D$, calculate the loss ($log(D(x))$), then\n",
    "calculate the gradients in a backward pass. Secondly, we will construct\n",
    "a batch of fake samples with the current generator, forward pass this\n",
    "batch through $D$, calculate the loss ($log(1-D(G(z)))$),\n",
    "and *accumulate* the gradients with a backward pass. Now, with the\n",
    "gradients accumulated from both the all-real and all-fake batches, we\n",
    "call a step of the Discriminator’s optimizer.\n",
    "\n",
    "**Part 2 - Train the Generator**\n",
    "\n",
    "As stated in the original paper, we want to train the Generator by\n",
    "minimizing $log(1-D(G(z)))$ in an effort to generate better fakes.\n",
    "As mentioned, this was shown by Goodfellow to not provide sufficient\n",
    "gradients, especially early in the learning process. As a fix, we\n",
    "instead wish to maximize $log(D(G(z)))$. In the code we accomplish\n",
    "this by: classifying the Generator output from Part 1 with the\n",
    "Discriminator, computing G’s loss *using real labels as GT*, computing\n",
    "G’s gradients in a backward pass, and finally updating G’s parameters\n",
    "with an optimizer step. It may seem counter-intuitive to use the real\n",
    "labels as GT labels for the loss function, but this allows us to use the\n",
    "$log(x)$ part of the BCELoss (rather than the $log(1-x)$\n",
    "part) which is exactly what we want.\n",
    "\n",
    "Finally, we will do some statistic reporting and at the end of each\n",
    "epoch we will push our fixed_noise batch through the generator to\n",
    "visually track the progress of G’s training. The training statistics\n",
    "reported are:\n",
    "\n",
    "-  **Loss_D** - discriminator loss calculated as the sum of losses for\n",
    "   the all real and all fake batches ($log(D(x)) + log(1 - D(G(z)))$).\n",
    "-  **Loss_G** - generator loss calculated as $log(D(G(z)))$\n",
    "-  **D(x)** - the average output (across the batch) of the discriminator\n",
    "   for the all real batch. This should start close to 1 then\n",
    "   theoretically converge to 0.5 when G gets better. Think about why\n",
    "   this is.\n",
    "-  **D(G(z))** - average discriminator outputs for the all fake batch.\n",
    "   The first number is before D is updated and the second number is\n",
    "   after D is updated. These numbers should start near 0 and converge to\n",
    "   0.5 as G gets better. Think about why this is.\n",
    "\n",
    "**Note:** This step might take a while, depending on how many epochs you\n",
    "run and if you removed some data from the dataset."
   ]
  },
  {
   "cell_type": "code",
   "execution_count": null,
   "id": "204b8bc1",
   "metadata": {
    "scrolled": false
   },
   "outputs": [],
   "source": [
    "# Training Loop\n",
    "\n",
    "# Lists to keep track of progress\n",
    "img_list = []\n",
    "G_losses = []\n",
    "D_losses = []\n",
    "iters = 0\n",
    "\n",
    "print(\"Starting Training Loop...\")\n",
    "# For each epoch\n",
    "for epoch in range(num_epochs):\n",
    "    # For each batch in the dataloader\n",
    "    for i, data in enumerate(dataloader, 0):\n",
    "\n",
    "        ##############################################################\n",
    "        # (1) Update D network: maximize log(D(x)) + log(1 - D(G(z)))\n",
    "        ##############################################################\n",
    "        ## Train with all-real batch\n",
    "        netD.zero_grad()\n",
    "        \n",
    "        # Step 1: Format batch\n",
    "        real_cpu = data[0].to(device)\n",
    "        b_size = real_cpu.size(0)\n",
    "        label = torch.full((b_size,), real_label, dtype=torch.float, device=device)\n",
    "        \n",
    "        # Step 2: Forward pass real batch through D\n",
    "        pass\n",
    "        \n",
    "        # Step 3: Calculate loss on all-real batch\n",
    "        pass\n",
    "        \n",
    "        # Step 4: Calculate gradients for D in backward pass\n",
    "        pass\n",
    "\n",
    "        ## Train with all-fake batch\n",
    "        \n",
    "        # Step 1: Generate batch of latent vectors\n",
    "        pass\n",
    "        \n",
    "        # Step 2: Generate fake image batch with G\n",
    "        pass\n",
    "        \n",
    "        # Step 3: Classify all fake batch with D\n",
    "        pass\n",
    "        \n",
    "        # Step 4: Calculate D's loss on the all-fake batch\n",
    "        pass\n",
    "        \n",
    "        # Step 5: Calculate the gradients for this batch, accumulated (summed) with previous gradients\n",
    "        pass\n",
    "        \n",
    "        # Step 6: Compute error of D as sum over the fake and the real batches\n",
    "        pass\n",
    "        \n",
    "        # Step 7: Update D\n",
    "        pass\n",
    "        \n",
    "        ##############################################################\n",
    "        # End\n",
    "        ##############################################################\n",
    "        \n",
    "        \n",
    "\n",
    "        ###############################################\n",
    "        # (2) Update G network: maximize log(D(G(z)))\n",
    "        ###############################################\n",
    "        netG.zero_grad()\n",
    "        label.fill_(real_label)  # fake labels are real for generator cost\n",
    "        \n",
    "        # Step 1: Since we just updated D, perform another forward pass of all-fake batch through D\n",
    "        pass\n",
    "        \n",
    "        # Step 2: Calculate G's loss based on this output\n",
    "        pass\n",
    "        \n",
    "        # Step 3: Calculate gradients for G\n",
    "        pass\n",
    "        \n",
    "        # Step 4: Update G\n",
    "        pass\n",
    "        \n",
    "        ###############################################\n",
    "        # End\n",
    "        ###############################################\n",
    "\n",
    "        # Output training stats\n",
    "        if i % 50 == 0:\n",
    "            print('[%d/%d][%d/%d]\\tLoss_D: %.4f\\tLoss_G: %.4f\\tD(x): %.4f\\tD(G(z)): %.4f / %.4f'\n",
    "                  % (epoch, num_epochs, i, len(dataloader),\n",
    "                     errD.item(), errG.item(), D_x, D_G_z1, D_G_z2))\n",
    "\n",
    "        # Save Losses for plotting later\n",
    "        G_losses.append(errG.item())\n",
    "        D_losses.append(errD.item())\n",
    "\n",
    "        # Check how the generator is doing by saving G's output on fixed_noise\n",
    "        if (iters % 500 == 0) or ((epoch == num_epochs-1) and (i == len(dataloader)-1)):\n",
    "            with torch.no_grad():\n",
    "                fake = netG(fixed_noise).detach().cpu()\n",
    "            img_list.append(vutils.make_grid(fake, padding=2, normalize=True))\n",
    "\n",
    "        iters += 1"
   ]
  },
  {
   "cell_type": "markdown",
   "id": "dcc7e8a1",
   "metadata": {},
   "source": [
    "## Results"
   ]
  },
  {
   "cell_type": "markdown",
   "id": "f7d6adcc",
   "metadata": {},
   "source": [
    "Finally, lets check out how we did. Here, we will look at three different results. First, we will see how $D$ and $G$’s losses changed during training. Second, we will visualize $G$’s output on the fixed_noise batch for every epoch. And third, we will look at a batch of real data next to a batch of fake data from $G$."
   ]
  },
  {
   "cell_type": "markdown",
   "id": "d5a4f958",
   "metadata": {},
   "source": [
    "### Loss versus training iteration"
   ]
  },
  {
   "cell_type": "markdown",
   "id": "db028fb7",
   "metadata": {},
   "source": [
    "Below is a plot of $D$ & $G$’s losses versus training iterations."
   ]
  },
  {
   "cell_type": "code",
   "execution_count": null,
   "id": "f6558290",
   "metadata": {},
   "outputs": [],
   "source": [
    "plt.figure(figsize=(10,5))\n",
    "plt.title(\"Generator and Discriminator Loss During Training\")\n",
    "plt.plot(G_losses,label=\"G\")\n",
    "plt.plot(D_losses,label=\"D\")\n",
    "plt.xlabel(\"iterations\")\n",
    "plt.ylabel(\"Loss\")\n",
    "plt.legend()\n",
    "plt.show()"
   ]
  },
  {
   "cell_type": "markdown",
   "id": "53ade309",
   "metadata": {},
   "source": [
    "### Visualization of G’s progression"
   ]
  },
  {
   "cell_type": "markdown",
   "id": "dda2e98a",
   "metadata": {},
   "source": [
    "Remember how we saved the generator’s output on the fixed_noise batch after every epoch of training. Now, we can visualize the training progression of $G$ with an animation. Press the play button to start the animation."
   ]
  },
  {
   "cell_type": "code",
   "execution_count": null,
   "id": "c56ead06",
   "metadata": {},
   "outputs": [],
   "source": [
    "fig = plt.figure(figsize=(8,8))\n",
    "plt.axis(\"off\")\n",
    "ims = [[plt.imshow(np.transpose(i,(1,2,0)), animated=True)] for i in img_list]\n",
    "ani = animation.ArtistAnimation(fig, ims, interval=1000, repeat_delay=1000, blit=True)\n",
    "\n",
    "HTML(ani.to_jshtml())"
   ]
  },
  {
   "cell_type": "markdown",
   "id": "2196a1ee",
   "metadata": {},
   "source": [
    "### Real Images vs. Fake Images"
   ]
  },
  {
   "cell_type": "markdown",
   "id": "aa53885d",
   "metadata": {},
   "source": [
    "Finally, lets take a look at some real images and fake images side by side."
   ]
  },
  {
   "cell_type": "code",
   "execution_count": null,
   "id": "fb262e61",
   "metadata": {},
   "outputs": [],
   "source": [
    "# Grab a batch of real images from the dataloader\n",
    "real_batch = next(iter(dataloader))\n",
    "\n",
    "# Plot the real images\n",
    "plt.figure(figsize=(15,15))\n",
    "plt.subplot(1,2,1)\n",
    "plt.axis(\"off\")\n",
    "plt.title(\"Real Images\")\n",
    "plt.imshow(np.transpose(vutils.make_grid(real_batch[0].to(device)[:64], padding=5, normalize=True).cpu(),(1,2,0)))\n",
    "\n",
    "# Plot the fake images from the last epoch\n",
    "plt.subplot(1,2,2)\n",
    "plt.axis(\"off\")\n",
    "plt.title(\"Fake Images\")\n",
    "plt.imshow(np.transpose(img_list[-1],(1,2,0)))\n",
    "plt.show()"
   ]
  },
  {
   "cell_type": "code",
   "execution_count": null,
   "id": "f05ad668",
   "metadata": {},
   "outputs": [],
   "source": []
  },
  {
   "cell_type": "markdown",
   "id": "458d24f5",
   "metadata": {},
   "source": [
    "# References"
   ]
  },
  {
   "cell_type": "markdown",
   "id": "9add0142",
   "metadata": {},
   "source": [
    "1. Nathan Inkawhich, DCGAN TUTORIAL, https://pytorch.org/tutorials/beginner/dcgan_faces_tutorial.html"
   ]
  },
  {
   "cell_type": "code",
   "execution_count": null,
   "id": "617c43c3",
   "metadata": {},
   "outputs": [],
   "source": []
  }
 ],
 "metadata": {
  "kernelspec": {
   "display_name": "myml",
   "language": "python",
   "name": "myml"
  },
  "language_info": {
   "codemirror_mode": {
    "name": "ipython",
    "version": 3
   },
   "file_extension": ".py",
   "mimetype": "text/x-python",
   "name": "python",
   "nbconvert_exporter": "python",
   "pygments_lexer": "ipython3",
   "version": "3.10.8"
  }
 },
 "nbformat": 4,
 "nbformat_minor": 5
}
