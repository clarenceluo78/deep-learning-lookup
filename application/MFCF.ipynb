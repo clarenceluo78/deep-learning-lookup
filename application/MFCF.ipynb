{
 "cells": [
  {
   "cell_type": "code",
   "execution_count": 1,
   "id": "62730f39",
   "metadata": {},
   "outputs": [
    {
     "name": "stderr",
     "output_type": "stream",
     "text": [
      "/workspace/shared/apps/anaconda3/envs/torch190/lib/python3.8/site-packages/tqdm/auto.py:22: TqdmWarning: IProgress not found. Please update jupyter and ipywidgets. See https://ipywidgets.readthedocs.io/en/stable/user_install.html\n",
      "  from .autonotebook import tqdm as notebook_tqdm\n"
     ]
    }
   ],
   "source": [
    "import pandas as pd\n",
    "import numpy as np\n",
    "from sklearn import model_selection, metrics, preprocessing\n",
    "import torch\n",
    "import torch.nn as nn\n",
    "import matplotlib.pyplot as plt \n",
    "from torch.utils.data import Dataset, DataLoader"
   ]
  },
  {
   "cell_type": "code",
   "execution_count": 2,
   "id": "f182e03e",
   "metadata": {},
   "outputs": [],
   "source": [
    "device = torch.device('cuda' if torch.cuda.is_available() else 'cpu')"
   ]
  },
  {
   "cell_type": "code",
   "execution_count": 3,
   "id": "f5903c08",
   "metadata": {},
   "outputs": [],
   "source": [
    "df = pd.read_csv(\"ml-latest-small/ratings.csv\")"
   ]
  },
  {
   "cell_type": "code",
   "execution_count": 4,
   "id": "629bcc9b",
   "metadata": {},
   "outputs": [
    {
     "name": "stdout",
     "output_type": "stream",
     "text": [
      "<class 'pandas.core.frame.DataFrame'>\n",
      "RangeIndex: 100836 entries, 0 to 100835\n",
      "Data columns (total 4 columns):\n",
      " #   Column     Non-Null Count   Dtype  \n",
      "---  ------     --------------   -----  \n",
      " 0   userId     100836 non-null  int64  \n",
      " 1   movieId    100836 non-null  int64  \n",
      " 2   rating     100836 non-null  float64\n",
      " 3   timestamp  100836 non-null  int64  \n",
      "dtypes: float64(1), int64(3)\n",
      "memory usage: 3.1 MB\n"
     ]
    }
   ],
   "source": [
    "df.info() # basically show schema"
   ]
  },
  {
   "cell_type": "code",
   "execution_count": 5,
   "id": "407d5204",
   "metadata": {},
   "outputs": [
    {
     "data": {
      "text/plain": [
       "610"
      ]
     },
     "execution_count": 5,
     "metadata": {},
     "output_type": "execute_result"
    }
   ],
   "source": [
    "df.userId.nunique()"
   ]
  },
  {
   "cell_type": "code",
   "execution_count": 6,
   "id": "484fcc34",
   "metadata": {},
   "outputs": [
    {
     "data": {
      "text/plain": [
       "9724"
      ]
     },
     "execution_count": 6,
     "metadata": {},
     "output_type": "execute_result"
    }
   ],
   "source": [
    "df.movieId.nunique()"
   ]
  },
  {
   "cell_type": "code",
   "execution_count": 7,
   "id": "fad57b02",
   "metadata": {},
   "outputs": [
    {
     "data": {
      "text/plain": [
       "4.0    26818\n",
       "3.0    20047\n",
       "5.0    13211\n",
       "3.5    13136\n",
       "4.5     8551\n",
       "2.0     7551\n",
       "2.5     5550\n",
       "1.0     2811\n",
       "1.5     1791\n",
       "0.5     1370\n",
       "Name: rating, dtype: int64"
      ]
     },
     "execution_count": 7,
     "metadata": {},
     "output_type": "execute_result"
    }
   ],
   "source": [
    "df.rating.value_counts() #check value distribution"
   ]
  },
  {
   "cell_type": "code",
   "execution_count": 8,
   "id": "29af0374",
   "metadata": {},
   "outputs": [
    {
     "data": {
      "text/plain": [
       "(100836, 4)"
      ]
     },
     "execution_count": 8,
     "metadata": {},
     "output_type": "execute_result"
    }
   ],
   "source": [
    "df.shape"
   ]
  },
  {
   "cell_type": "markdown",
   "id": "a72486a1",
   "metadata": {},
   "source": [
    "#### Training Dataset Class Wrapper"
   ]
  },
  {
   "cell_type": "code",
   "execution_count": 9,
   "id": "456e8696",
   "metadata": {},
   "outputs": [],
   "source": [
    "class MovieDataset:\n",
    "    def __init__(self, users, movies, ratings):\n",
    "        self.users = users\n",
    "        self.movies = movies\n",
    "        self.ratings = ratings\n",
    "    # len(movie_dataset)\n",
    "    def __len__(self):\n",
    "        return len(self.users)\n",
    "    # movie_dataset[1] \n",
    "    def __getitem__(self, item):\n",
    "\n",
    "        users = self.users[item] \n",
    "        movies = self.movies[item]\n",
    "        ratings = self.ratings[item]\n",
    "        \n",
    "        return {\n",
    "            \"users\": torch.tensor(users, dtype=torch.long),\n",
    "            \"movies\": torch.tensor(movies, dtype=torch.long),\n",
    "            \"ratings\": torch.tensor(ratings, dtype=torch.long),\n",
    "        }"
   ]
  },
  {
   "cell_type": "markdown",
   "id": "33528c36",
   "metadata": {},
   "source": [
    "#### Create the model"
   ]
  },
  {
   "cell_type": "code",
   "execution_count": 10,
   "id": "6d5e2c1e",
   "metadata": {},
   "outputs": [],
   "source": [
    "class RecSysModel(nn.Module):\n",
    "    def __init__(self, n_users, n_movies):\n",
    "        super().__init__()\n",
    "        # trainable lookup matrix for shallow embedding vectors\n",
    "        \n",
    "        self.user_embed = nn.Embedding(n_users, 32)\n",
    "        self.movie_embed = nn.Embedding(n_movies, 32)\n",
    "        # user, movie embedding concat\n",
    "        self.out = nn.Linear(64, 1)\n",
    "\n",
    "    \n",
    "    def forward(self, users, movies, ratings=None):\n",
    "        user_embeds = self.user_embed(users)\n",
    "        movie_embeds = self.movie_embed(movies)\n",
    "        output = torch.cat([user_embeds, movie_embeds], dim=1)\n",
    "        \n",
    "        output = self.out(output)\n",
    "        \n",
    "        return output"
   ]
  },
  {
   "cell_type": "code",
   "execution_count": 11,
   "id": "e5e55691",
   "metadata": {},
   "outputs": [],
   "source": [
    "# encode the user and movie id to start from 0 so we don't run into index out of bound with Embedding\n",
    "lbl_user = preprocessing.LabelEncoder()\n",
    "lbl_movie = preprocessing.LabelEncoder()\n",
    "df.userId = lbl_user.fit_transform(df.userId.values)\n",
    "df.movieId = lbl_movie.fit_transform(df.movieId.values)\n",
    "\n",
    "df_train, df_valid = model_selection.train_test_split(\n",
    "    df, test_size=0.1, random_state=42, stratify=df.rating.values\n",
    ")\n",
    "\n",
    "train_dataset = MovieDataset(\n",
    "    users=df_train.userId.values,\n",
    "    movies=df_train.movieId.values,\n",
    "    ratings=df_train.rating.values\n",
    ")\n",
    "\n",
    "valid_dataset = MovieDataset(\n",
    "    users=df_valid.userId.values,\n",
    "    movies=df_valid.movieId.values,\n",
    "    ratings=df_valid.rating.values\n",
    ")\n",
    "\n"
   ]
  },
  {
   "cell_type": "code",
   "execution_count": 12,
   "id": "e30c79da",
   "metadata": {},
   "outputs": [
    {
     "name": "stderr",
     "output_type": "stream",
     "text": [
      "/tmp/ipykernel_1573079/3366589054.py:19: DeprecationWarning: an integer is required (got type numpy.float64).  Implicit conversion to integers using __int__ is deprecated, and may be removed in a future version of Python.\n",
      "  \"ratings\": torch.tensor(ratings, dtype=torch.long),\n",
      "/tmp/ipykernel_1573079/3366589054.py:19: DeprecationWarning: an integer is required (got type numpy.float64).  Implicit conversion to integers using __int__ is deprecated, and may be removed in a future version of Python.\n",
      "  \"ratings\": torch.tensor(ratings, dtype=torch.long),\n"
     ]
    },
    {
     "name": "stdout",
     "output_type": "stream",
     "text": [
      "{'users': tensor([605,  83, 379, 452]), 'movies': tensor([3509,  658, 3094, 1303]), 'ratings': tensor([4, 3, 2, 4])}\n"
     ]
    }
   ],
   "source": [
    "train_loader = DataLoader(dataset=train_dataset,\n",
    "                          batch_size=4,\n",
    "                          shuffle=True,\n",
    "                          num_workers=2) \n",
    "\n",
    "validation_loader = DataLoader(dataset=valid_dataset,\n",
    "                          batch_size=4,\n",
    "                          shuffle=True,\n",
    "                          num_workers=2) \n",
    "\n",
    "dataiter = iter(train_loader)\n",
    "dataloader_data = dataiter.next() \n",
    "print(dataloader_data)"
   ]
  },
  {
   "cell_type": "code",
   "execution_count": 13,
   "id": "810cac96",
   "metadata": {},
   "outputs": [],
   "source": [
    "model = RecSysModel(\n",
    "    n_users=len(lbl_user.classes_),\n",
    "    n_movies=len(lbl_movie.classes_),\n",
    ").to(device)\n",
    "\n",
    "optimizer = torch.optim.Adam(model.parameters())  \n",
    "sch = torch.optim.lr_scheduler.StepLR(optimizer, step_size=3, gamma=0.7)\n",
    "\n",
    "loss_func = nn.MSELoss()"
   ]
  },
  {
   "cell_type": "code",
   "execution_count": 14,
   "id": "9b0ce13f",
   "metadata": {},
   "outputs": [
    {
     "name": "stdout",
     "output_type": "stream",
     "text": [
      "610\n",
      "9724\n",
      "9723\n",
      "90752\n"
     ]
    }
   ],
   "source": [
    "print(len(lbl_user.classes_))\n",
    "print(len(lbl_movie.classes_))\n",
    "print(df.movieId.max())\n",
    "print(len(train_dataset))"
   ]
  },
  {
   "cell_type": "markdown",
   "id": "455c3820",
   "metadata": {},
   "source": [
    "#### Manually run a forward path"
   ]
  },
  {
   "cell_type": "code",
   "execution_count": 15,
   "id": "89b9af35",
   "metadata": {},
   "outputs": [
    {
     "name": "stdout",
     "output_type": "stream",
     "text": [
      "tensor([605,  83, 379, 452])\n",
      "torch.Size([4])\n",
      "tensor([3509,  658, 3094, 1303])\n",
      "torch.Size([4])\n"
     ]
    }
   ],
   "source": [
    "print(dataloader_data['users'])\n",
    "\n",
    "print(dataloader_data['users'].size())\n",
    "print(dataloader_data['movies'] )\n",
    "print(dataloader_data['movies'].size())\n",
    "\n",
    "user_embed = nn.Embedding(len(lbl_user.classes_), 32)\n",
    "movie_embed = nn.Embedding(len(lbl_movie.classes_), 32)\n",
    "\n",
    "out = nn.Linear(64, 1)\n"
   ]
  },
  {
   "cell_type": "code",
   "execution_count": 16,
   "id": "4e6f6d7d",
   "metadata": {},
   "outputs": [
    {
     "name": "stdout",
     "output_type": "stream",
     "text": [
      "user_embeds torch.Size([4, 32])\n",
      "user_embeds tensor([[-0.2520, -0.9219,  1.4858, -1.6553, -1.6857, -0.6010, -0.8813,  2.3171,\n",
      "          1.1420, -0.5452,  0.6982,  1.1811, -0.4357, -0.3685,  0.2750, -0.0429,\n",
      "         -0.5116,  0.5405, -0.2553, -1.7710,  0.6795,  0.8117, -0.1782,  0.0936,\n",
      "          0.5063,  0.7133,  1.4532,  0.2172, -1.1686, -1.6555,  1.3895,  0.3345],\n",
      "        [-1.4396, -0.8579, -0.6026,  0.2032, -1.1084, -0.3011, -1.3868, -0.4079,\n",
      "         -1.1426, -0.8387,  0.4180, -0.5627, -0.3313,  1.6068,  0.0989, -2.1554,\n",
      "         -0.9992,  0.7265,  1.3826, -0.2183,  1.7908,  0.1678,  0.7581, -0.8694,\n",
      "         -0.4218,  0.0511,  0.1504,  0.5761,  2.4219,  1.2993,  2.2231, -1.5905],\n",
      "        [ 0.5163, -0.1067, -0.3334, -0.4875, -0.3143, -0.2787,  0.2424,  0.5763,\n",
      "          0.6580, -1.7541, -0.1250,  0.2865, -0.0250, -1.7641, -0.1478, -0.3840,\n",
      "         -0.3825, -2.6243,  0.1302, -0.9301, -0.3957,  0.5394,  0.6767,  0.6628,\n",
      "          0.7303,  0.1389, -0.7761, -0.7067,  1.5240, -1.1904,  0.1341,  0.5190],\n",
      "        [ 1.7720,  0.0225, -1.5171, -1.5490, -0.1463,  0.6564,  0.6968,  0.3112,\n",
      "          0.4695, -0.2891,  0.9779,  0.0040,  2.2994, -0.2047,  0.2118, -0.8225,\n",
      "          0.7092,  1.2519, -1.4831,  0.5801,  0.6332, -0.1575, -0.2379,  1.3076,\n",
      "         -0.0079,  0.1810, -2.0774, -1.6195,  0.5000, -1.2192,  0.7507,  0.9502]],\n",
      "       grad_fn=<EmbeddingBackward>)\n",
      "movie_embeds torch.Size([4, 32])\n",
      "movie_embeds tensor([[ 1.4746e+00, -1.3736e+00,  2.0782e-01, -1.5141e-02,  2.5132e-01,\n",
      "         -1.9066e+00,  1.0632e+00,  5.2773e-01,  1.6183e+00, -9.1351e-01,\n",
      "          1.9467e-01,  4.8739e-01, -1.1913e+00, -1.1012e+00, -1.2242e+00,\n",
      "         -3.9264e-01,  1.0330e+00, -1.3296e+00,  2.3285e+00, -7.1858e-02,\n",
      "          2.1191e-03,  1.3590e+00,  3.1541e-01,  6.9873e-01,  1.3637e+00,\n",
      "         -1.4589e+00,  5.0842e-01, -1.2153e+00, -3.8979e-01, -1.3256e+00,\n",
      "         -2.3512e+00,  1.9720e+00],\n",
      "        [-1.5915e+00, -1.0077e+00,  1.1817e+00,  9.2494e-01,  7.8497e-01,\n",
      "          4.9482e-01, -2.7140e+00,  1.9978e-01, -1.0351e+00,  1.7563e+00,\n",
      "         -1.5209e+00, -1.1812e+00, -9.9726e-01,  8.7247e-01,  5.3964e-01,\n",
      "         -1.6210e+00, -2.2053e-01, -7.1692e-02, -1.8808e-01,  1.2216e+00,\n",
      "          6.9330e-01, -4.1035e-01,  7.0723e-02,  1.2535e+00,  2.3215e-01,\n",
      "         -3.7688e-01,  3.9085e-01,  1.3882e+00, -6.7629e-01, -1.5306e+00,\n",
      "         -1.8271e+00, -2.3307e+00],\n",
      "        [-1.2148e+00,  6.4091e-01, -7.0276e-01,  5.6299e-01, -3.1684e-01,\n",
      "         -1.1358e+00,  1.3134e+00, -2.1831e-01, -1.5835e+00,  7.0548e-01,\n",
      "          6.3639e-02, -4.7468e-01, -1.4027e+00,  1.0676e+00, -2.5588e+00,\n",
      "         -2.0148e-01,  4.6085e-01, -1.1623e+00,  1.2146e+00, -4.4341e-01,\n",
      "         -3.3784e-01,  8.3472e-01,  1.8331e+00, -2.3721e+00,  4.5882e-01,\n",
      "          7.8114e-01, -1.7920e+00, -2.7014e-01,  1.1545e-01, -7.4832e-01,\n",
      "         -9.5157e-01, -1.3901e+00],\n",
      "        [ 2.1161e-01,  1.5862e-01, -2.4426e+00,  2.9322e+00, -8.5649e-01,\n",
      "         -9.1503e-02,  1.2741e+00,  8.8797e-01,  4.0176e-01, -4.1964e-01,\n",
      "         -7.8520e-01,  3.4232e-01, -1.0630e+00,  7.2926e-02,  1.0635e+00,\n",
      "          9.0719e-01, -2.8420e-01,  1.4421e+00,  8.9466e-01,  8.6616e-02,\n",
      "          8.3789e-01, -1.0829e+00, -7.0390e-01,  4.1110e-01, -6.6788e-02,\n",
      "          9.4431e-01,  3.2239e-01,  6.9617e-01,  7.2228e-01,  3.7028e-01,\n",
      "          5.4522e-01, -7.8421e-02]], grad_fn=<EmbeddingBackward>)\n"
     ]
    }
   ],
   "source": [
    "user_embeds = user_embed(dataloader_data['users'])\n",
    "movie_embeds = movie_embed(dataloader_data['movies'])\n",
    "print(f\"user_embeds {user_embeds.size()}\")\n",
    "print(f\"user_embeds {user_embeds}\")\n",
    "print(f\"movie_embeds {movie_embeds.size()}\")\n",
    "print(f\"movie_embeds {movie_embeds}\")"
   ]
  },
  {
   "cell_type": "code",
   "execution_count": 17,
   "id": "18d20e4b",
   "metadata": {},
   "outputs": [
    {
     "name": "stdout",
     "output_type": "stream",
     "text": [
      "output: torch.Size([4, 64])\n",
      "output: tensor([[-2.5205e-01, -9.2187e-01,  1.4858e+00, -1.6553e+00, -1.6857e+00,\n",
      "         -6.0103e-01, -8.8135e-01,  2.3171e+00,  1.1420e+00, -5.4518e-01,\n",
      "          6.9816e-01,  1.1811e+00, -4.3574e-01, -3.6850e-01,  2.7498e-01,\n",
      "         -4.2889e-02, -5.1164e-01,  5.4046e-01, -2.5533e-01, -1.7710e+00,\n",
      "          6.7952e-01,  8.1169e-01, -1.7821e-01,  9.3586e-02,  5.0630e-01,\n",
      "          7.1327e-01,  1.4532e+00,  2.1715e-01, -1.1686e+00, -1.6555e+00,\n",
      "          1.3895e+00,  3.3448e-01,  1.4746e+00, -1.3736e+00,  2.0782e-01,\n",
      "         -1.5141e-02,  2.5132e-01, -1.9066e+00,  1.0632e+00,  5.2773e-01,\n",
      "          1.6183e+00, -9.1351e-01,  1.9467e-01,  4.8739e-01, -1.1913e+00,\n",
      "         -1.1012e+00, -1.2242e+00, -3.9264e-01,  1.0330e+00, -1.3296e+00,\n",
      "          2.3285e+00, -7.1858e-02,  2.1191e-03,  1.3590e+00,  3.1541e-01,\n",
      "          6.9873e-01,  1.3637e+00, -1.4589e+00,  5.0842e-01, -1.2153e+00,\n",
      "         -3.8979e-01, -1.3256e+00, -2.3512e+00,  1.9720e+00],\n",
      "        [-1.4396e+00, -8.5791e-01, -6.0258e-01,  2.0323e-01, -1.1084e+00,\n",
      "         -3.0106e-01, -1.3868e+00, -4.0790e-01, -1.1426e+00, -8.3875e-01,\n",
      "          4.1795e-01, -5.6274e-01, -3.3129e-01,  1.6068e+00,  9.8878e-02,\n",
      "         -2.1554e+00, -9.9925e-01,  7.2653e-01,  1.3826e+00, -2.1826e-01,\n",
      "          1.7908e+00,  1.6780e-01,  7.5813e-01, -8.6939e-01, -4.2185e-01,\n",
      "          5.1069e-02,  1.5038e-01,  5.7607e-01,  2.4219e+00,  1.2993e+00,\n",
      "          2.2231e+00, -1.5905e+00, -1.5915e+00, -1.0077e+00,  1.1817e+00,\n",
      "          9.2494e-01,  7.8497e-01,  4.9482e-01, -2.7140e+00,  1.9978e-01,\n",
      "         -1.0351e+00,  1.7563e+00, -1.5209e+00, -1.1812e+00, -9.9726e-01,\n",
      "          8.7247e-01,  5.3964e-01, -1.6210e+00, -2.2053e-01, -7.1692e-02,\n",
      "         -1.8808e-01,  1.2216e+00,  6.9330e-01, -4.1035e-01,  7.0723e-02,\n",
      "          1.2535e+00,  2.3215e-01, -3.7688e-01,  3.9085e-01,  1.3882e+00,\n",
      "         -6.7629e-01, -1.5306e+00, -1.8271e+00, -2.3307e+00],\n",
      "        [ 5.1629e-01, -1.0671e-01, -3.3338e-01, -4.8747e-01, -3.1431e-01,\n",
      "         -2.7875e-01,  2.4235e-01,  5.7634e-01,  6.5800e-01, -1.7541e+00,\n",
      "         -1.2501e-01,  2.8654e-01, -2.5005e-02, -1.7641e+00, -1.4785e-01,\n",
      "         -3.8400e-01, -3.8252e-01, -2.6243e+00,  1.3017e-01, -9.3012e-01,\n",
      "         -3.9572e-01,  5.3938e-01,  6.7672e-01,  6.6282e-01,  7.3028e-01,\n",
      "          1.3893e-01, -7.7611e-01, -7.0667e-01,  1.5240e+00, -1.1904e+00,\n",
      "          1.3415e-01,  5.1900e-01, -1.2148e+00,  6.4091e-01, -7.0276e-01,\n",
      "          5.6299e-01, -3.1684e-01, -1.1358e+00,  1.3134e+00, -2.1831e-01,\n",
      "         -1.5835e+00,  7.0548e-01,  6.3639e-02, -4.7468e-01, -1.4027e+00,\n",
      "          1.0676e+00, -2.5588e+00, -2.0148e-01,  4.6085e-01, -1.1623e+00,\n",
      "          1.2146e+00, -4.4341e-01, -3.3784e-01,  8.3472e-01,  1.8331e+00,\n",
      "         -2.3721e+00,  4.5882e-01,  7.8114e-01, -1.7920e+00, -2.7014e-01,\n",
      "          1.1545e-01, -7.4832e-01, -9.5157e-01, -1.3901e+00],\n",
      "        [ 1.7720e+00,  2.2489e-02, -1.5171e+00, -1.5490e+00, -1.4633e-01,\n",
      "          6.5638e-01,  6.9676e-01,  3.1117e-01,  4.6949e-01, -2.8906e-01,\n",
      "          9.7789e-01,  3.9991e-03,  2.2994e+00, -2.0468e-01,  2.1177e-01,\n",
      "         -8.2253e-01,  7.0920e-01,  1.2519e+00, -1.4831e+00,  5.8009e-01,\n",
      "          6.3316e-01, -1.5747e-01, -2.3793e-01,  1.3076e+00, -7.8928e-03,\n",
      "          1.8096e-01, -2.0774e+00, -1.6195e+00,  4.9995e-01, -1.2192e+00,\n",
      "          7.5073e-01,  9.5022e-01,  2.1161e-01,  1.5862e-01, -2.4426e+00,\n",
      "          2.9322e+00, -8.5649e-01, -9.1503e-02,  1.2741e+00,  8.8797e-01,\n",
      "          4.0176e-01, -4.1964e-01, -7.8520e-01,  3.4232e-01, -1.0630e+00,\n",
      "          7.2926e-02,  1.0635e+00,  9.0719e-01, -2.8420e-01,  1.4421e+00,\n",
      "          8.9466e-01,  8.6616e-02,  8.3789e-01, -1.0829e+00, -7.0390e-01,\n",
      "          4.1110e-01, -6.6788e-02,  9.4431e-01,  3.2239e-01,  6.9617e-01,\n",
      "          7.2228e-01,  3.7028e-01,  5.4522e-01, -7.8421e-02]],\n",
      "       grad_fn=<CatBackward>)\n",
      "output: tensor([[-0.9189],\n",
      "        [ 0.0534],\n",
      "        [-0.2054],\n",
      "        [-0.2608]], grad_fn=<AddmmBackward>)\n"
     ]
    }
   ],
   "source": [
    "output = torch.cat([user_embeds, movie_embeds], dim=1) \n",
    "print(f\"output: {output.size()}\")\n",
    "print(f\"output: {output}\")\n",
    "output = out(output)\n",
    "print(f\"output: {output}\")"
   ]
  },
  {
   "cell_type": "code",
   "execution_count": 18,
   "id": "59d37dd8",
   "metadata": {},
   "outputs": [
    {
     "name": "stdout",
     "output_type": "stream",
     "text": [
      "model_output: tensor([[-0.5564],\n",
      "        [ 0.6797],\n",
      "        [-0.2629],\n",
      "        [-0.5443]], device='cuda:0'), size: torch.Size([4, 1])\n"
     ]
    }
   ],
   "source": [
    "with torch.no_grad():\n",
    "    model_output = model(dataloader_data['users'].to(device), \n",
    "                   dataloader_data[\"movies\"].to(device))\n",
    "\n",
    "    print(f\"model_output: {model_output}, size: {model_output.size()}\")"
   ]
  },
  {
   "cell_type": "code",
   "execution_count": 19,
   "id": "85cc0014",
   "metadata": {},
   "outputs": [
    {
     "name": "stdout",
     "output_type": "stream",
     "text": [
      "tensor([4, 3, 2, 4])\n",
      "tensor([[4],\n",
      "        [3],\n",
      "        [2],\n",
      "        [4]])\n",
      "tensor([[-0.5564],\n",
      "        [ 0.6797],\n",
      "        [-0.2629],\n",
      "        [-0.5443]], device='cuda:0')\n",
      "tensor(13)\n",
      "tensor(-13.6840, device='cuda:0')\n"
     ]
    }
   ],
   "source": [
    "rating = dataloader_data[\"ratings\"]\n",
    "print(rating)\n",
    "print(rating.view(4, -1))\n",
    "print(model_output)\n",
    "\n",
    "print(rating.sum())\n",
    "\n",
    "print(model_output.sum() - rating.sum())"
   ]
  },
  {
   "cell_type": "markdown",
   "id": "3027b126",
   "metadata": {},
   "source": [
    "#### Run the training loop"
   ]
  },
  {
   "cell_type": "code",
   "execution_count": 20,
   "id": "9be08a50",
   "metadata": {},
   "outputs": [
    {
     "name": "stderr",
     "output_type": "stream",
     "text": [
      "/tmp/ipykernel_1573079/3366589054.py:19: DeprecationWarning: an integer is required (got type numpy.float64).  Implicit conversion to integers using __int__ is deprecated, and may be removed in a future version of Python.\n",
      "  \"ratings\": torch.tensor(ratings, dtype=torch.long),\n",
      "/tmp/ipykernel_1573079/3366589054.py:19: DeprecationWarning: an integer is required (got type numpy.float64).  Implicit conversion to integers using __int__ is deprecated, and may be removed in a future version of Python.\n",
      "  \"ratings\": torch.tensor(ratings, dtype=torch.long),\n"
     ]
    },
    {
     "name": "stdout",
     "output_type": "stream",
     "text": [
      "epoch 0 loss at step: 5000 is 0.5101097367048264\n",
      "epoch 0 loss at step: 10000 is 0.18411675513386727\n",
      "epoch 0 loss at step: 15000 is 0.11208086706530303\n",
      "epoch 0 loss at step: 20000 is 0.08568620623815805\n",
      "epoch 0 loss at step: 25000 is 0.0691491937073879\n",
      "epoch 0 loss at step: 30000 is 0.06542395735876634\n",
      "epoch 0 loss at step: 35000 is 0.0672071553981863\n",
      "epoch 0 loss at step: 40000 is 0.06361753194155172\n",
      "epoch 0 loss at step: 45000 is 0.06026220014132559\n",
      "epoch 0 loss at step: 50000 is 0.06088470030361787\n",
      "epoch 0 loss at step: 55000 is 0.06050228049024008\n",
      "epoch 0 loss at step: 60000 is 0.0552825854354538\n",
      "epoch 0 loss at step: 65000 is 0.06011045858934522\n",
      "epoch 0 loss at step: 70000 is 0.05844800607636571\n",
      "epoch 0 loss at step: 75000 is 0.059422189733479173\n",
      "epoch 0 loss at step: 80000 is 0.057488630441110584\n",
      "epoch 0 loss at step: 85000 is 0.05840645083812997\n",
      "epoch 0 loss at step: 90000 is 0.056306275022495536\n"
     ]
    }
   ],
   "source": [
    "epochs = 1\n",
    "total_loss = 0\n",
    "plot_steps, print_steps = 5000, 5000\n",
    "step_cnt = 0\n",
    "all_losses_list = [] \n",
    "\n",
    "model.train() \n",
    "for epoch_i in range(epochs):\n",
    "    for i, train_data in enumerate(train_loader):\n",
    "        output = model(train_data[\"users\"].to(device), \n",
    "                       train_data[\"movies\"].to(device)\n",
    "                      ) \n",
    "        \n",
    "        # .view(4, -1) is to reshape the rating to match the shape of model output which is 4x1\n",
    "        rating = train_data[\"ratings\"].view(4, -1).to(torch.float32).to(device)\n",
    "\n",
    "        loss = loss_func(output, rating)\n",
    "        total_loss = total_loss + loss.sum().item()\n",
    "        optimizer.zero_grad()\n",
    "        loss.backward()\n",
    "        optimizer.step()\n",
    "\n",
    "        step_cnt = step_cnt + len(train_data[\"users\"])\n",
    "        \n",
    "\n",
    "        if(step_cnt % plot_steps == 0):\n",
    "            avg_loss = total_loss/(len(train_data[\"users\"]) * plot_steps)\n",
    "            print(f\"epoch {epoch_i} loss at step: {step_cnt} is {avg_loss}\")\n",
    "            all_losses_list.append(avg_loss)\n",
    "            total_loss = 0 # reset total_loss"
   ]
  },
  {
   "cell_type": "code",
   "execution_count": 21,
   "id": "9d213d31",
   "metadata": {},
   "outputs": [
    {
     "data": {
      "image/png": "[encoded data removed]",
      "text/plain": [
       "<Figure size 640x480 with 1 Axes>"
      ]
     },
     "metadata": {},
     "output_type": "display_data"
    }
   ],
   "source": [
    "plt.figure()\n",
    "plt.plot(all_losses_list)\n",
    "plt.show()"
   ]
  },
  {
   "cell_type": "markdown",
   "id": "c4dc078a",
   "metadata": {},
   "source": [
    "##### Evaluation with RMSE\n"
   ]
  },
  {
   "cell_type": "code",
   "execution_count": 22,
   "id": "7882f0aa",
   "metadata": {},
   "outputs": [
    {
     "name": "stderr",
     "output_type": "stream",
     "text": [
      "/tmp/ipykernel_1573079/3366589054.py:19: DeprecationWarning: an integer is required (got type numpy.float64).  Implicit conversion to integers using __int__ is deprecated, and may be removed in a future version of Python.\n",
      "  \"ratings\": torch.tensor(ratings, dtype=torch.long),\n",
      "/tmp/ipykernel_1573079/3366589054.py:19: DeprecationWarning: an integer is required (got type numpy.float64).  Implicit conversion to integers using __int__ is deprecated, and may be removed in a future version of Python.\n",
      "  \"ratings\": torch.tensor(ratings, dtype=torch.long),\n"
     ]
    },
    {
     "name": "stdout",
     "output_type": "stream",
     "text": [
      "rms: 0.46449074555714354\n"
     ]
    }
   ],
   "source": [
    "from sklearn.metrics import mean_squared_error\n",
    "\n",
    "model_output_list = []\n",
    "target_rating_list = []\n",
    "\n",
    "model.eval()\n",
    "\n",
    "with torch.no_grad():\n",
    "    for i, batched_data in enumerate(validation_loader): \n",
    "        model_output = model(batched_data['users'].to(device), \n",
    "                       batched_data[\"movies\"].to(device))\n",
    "        \n",
    "        model_output_list.append(model_output.sum().item() / len(batched_data['users']) )\n",
    "\n",
    "        target_rating = batched_data[\"ratings\"].to(device)\n",
    "        \n",
    "        target_rating_list.append(target_rating.sum().item() / len(batched_data['users']))\n",
    "\n",
    "#         print(f\"model_output: {model_output}, target_rating: {target_rating}\")\n",
    "\n",
    "\n",
    "# squared If True returns MSE value, if False returns RMSE value.\n",
    "rms = mean_squared_error(target_rating_list, model_output_list, squared=False)\n",
    "print(f\"rms: {rms}\")"
   ]
  },
  {
   "cell_type": "markdown",
   "id": "f28075f9",
   "metadata": {},
   "source": [
    "##### Evaluation with Recall@K\n"
   ]
  },
  {
   "cell_type": "code",
   "execution_count": 23,
   "id": "1e719617",
   "metadata": {},
   "outputs": [
    {
     "name": "stderr",
     "output_type": "stream",
     "text": [
      "/tmp/ipykernel_1573079/3366589054.py:19: DeprecationWarning: an integer is required (got type numpy.float64).  Implicit conversion to integers using __int__ is deprecated, and may be removed in a future version of Python.\n",
      "  \"ratings\": torch.tensor(ratings, dtype=torch.long),\n",
      "/tmp/ipykernel_1573079/3366589054.py:19: DeprecationWarning: an integer is required (got type numpy.float64).  Implicit conversion to integers using __int__ is deprecated, and may be removed in a future version of Python.\n",
      "  \"ratings\": torch.tensor(ratings, dtype=torch.long),\n"
     ]
    }
   ],
   "source": [
    "from collections import defaultdict\n",
    "\n",
    "# a dict that stores a list of predicted rating and actual rating pair for each user \n",
    "user_est_true = defaultdict(list)\n",
    "\n",
    "# iterate through the validation data to build the user-> [(y1, y1_hat), (y2, y2_hat)...]   \n",
    "with torch.no_grad():\n",
    "    for i, batched_data in enumerate(validation_loader): \n",
    "        users = batched_data['users']\n",
    "        movies = batched_data['movies']\n",
    "        ratings = batched_data['ratings']\n",
    "        \n",
    "        model_output = model(batched_data['users'].to(device), batched_data[\"movies\"].to(device))\n",
    "\n",
    "        for i in range(len(users)):\n",
    "            user_id = users[i].item()\n",
    "            movie_id = movies[i].item() \n",
    "            pred_rating = model_output[i][0].item()\n",
    "            true_rating = ratings[i].item()\n",
    "            \n",
    "#             print(f\"{user_id}, {movie_id}, {pred_rating}, {true_rating}\")\n",
    "            user_est_true[user_id].append((pred_rating, true_rating))            \n"
   ]
  },
  {
   "cell_type": "code",
   "execution_count": null,
   "id": "df848cab",
   "metadata": {},
   "outputs": [],
   "source": []
  },
  {
   "cell_type": "code",
   "execution_count": 24,
   "id": "03b4ffe0",
   "metadata": {},
   "outputs": [],
   "source": [
    "with torch.no_grad():\n",
    "    precisions = dict()\n",
    "    recalls = dict()\n",
    "\n",
    "    k=10\n",
    "    threshold=3.5\n",
    "\n",
    "    for uid, user_ratings in user_est_true.items():\n",
    "\n",
    "        # Sort user ratings by estimated value. \n",
    "        user_ratings.sort(key=lambda x: x[0], reverse=True)\n",
    "\n",
    "        # 这里 get the number of actual relevant item\n",
    "        n_rel = sum((true_r >= threshold) for (_, true_r) in user_ratings)\n",
    "\n",
    "        # 这里 get the number of recommended item that are predicted relevent and within topk\n",
    "        n_rec_k = sum((est >= threshold) for (est, _) in user_ratings[:k])\n",
    "\n",
    "        # 这里 get the number of recommented item that' is also actually relevant within topk\n",
    "        n_rel_and_rec_k = sum(\n",
    "            ((true_r >= threshold) and (est >= threshold))\n",
    "            for (est, true_r) in user_ratings[:k]\n",
    "        )\n",
    "\n",
    "#         print(f\"uid {uid},  n_rel {n_rel}, n_rec_k {n_rec_k}, n_rel_and_rec_k {n_rel_and_rec_k}\")\n",
    "\n",
    "        # Precision@K: Proportion of recommended items that are relevant\n",
    "        # When n_rec_k is 0, Precision is undefined. We here set it to 0.\n",
    "\n",
    "        precisions[uid] = n_rel_and_rec_k / n_rec_k if n_rec_k != 0 else 0\n",
    "\n",
    "        # Recall@K: Proportion of relevant items that are recommended\n",
    "        # When n_rel is 0, Recall is undefined. We here set it to 0.\n",
    "\n",
    "        recalls[uid] = n_rel_and_rec_k / n_rel if n_rel != 0 else 0"
   ]
  },
  {
   "cell_type": "code",
   "execution_count": 25,
   "id": "5e97cc78",
   "metadata": {},
   "outputs": [
    {
     "name": "stdout",
     "output_type": "stream",
     "text": [
      "precision @ 10: 0.5761474867724871\n",
      "recall @ 10 : 0.4926423547682639\n"
     ]
    }
   ],
   "source": [
    "# Precision and recall can then be averaged over all users\n",
    "print(f\"precision @ {k}: {sum(prec for prec in precisions.values()) / len(precisions)}\")\n",
    "\n",
    "print(f\"recall @ {k} : {sum(rec for rec in recalls.values()) / len(recalls)}\")\n"
   ]
  },
  {
   "cell_type": "code",
   "execution_count": null,
   "id": "69d77840",
   "metadata": {},
   "outputs": [],
   "source": []
  },
  {
   "cell_type": "markdown",
   "id": "ab2791a1",
   "metadata": {},
   "source": [
    "#### What if we remove the fully connected layer?"
   ]
  },
  {
   "cell_type": "code",
   "execution_count": 26,
   "id": "f2817276",
   "metadata": {},
   "outputs": [],
   "source": [
    "class RecSysModel2(nn.Module):\n",
    "    def __init__(self, n_users, n_movies):\n",
    "        super().__init__()\n",
    "        # trainable lookup matrix for shallow embedding vectors\n",
    "        \n",
    "        self.user_embed = nn.Embedding(n_users, 32)\n",
    "        self.movie_embed = nn.Embedding(n_movies, 32)\n",
    "\n",
    "    \n",
    "    def forward(self, users, movies, ratings=None):\n",
    "        user_embeds = self.user_embed(users)\n",
    "        movie_embeds = self.movie_embed(movies)\n",
    "        output = torch.matmul(user_embeds, movie_embeds.T)\n",
    "        \n",
    "        return output"
   ]
  },
  {
   "cell_type": "code",
   "execution_count": 27,
   "id": "b7a5b85e",
   "metadata": {},
   "outputs": [],
   "source": [
    "model = RecSysModel2(\n",
    "    n_users=len(lbl_user.classes_),\n",
    "    n_movies=len(lbl_movie.classes_),\n",
    ").to(device)\n",
    "\n",
    "optimizer = torch.optim.Adam(model.parameters())  \n",
    "sch = torch.optim.lr_scheduler.StepLR(optimizer, step_size=3, gamma=0.7)\n",
    "\n",
    "loss_func = nn.MSELoss()"
   ]
  },
  {
   "cell_type": "code",
   "execution_count": 28,
   "id": "bc6d992c",
   "metadata": {},
   "outputs": [
    {
     "name": "stderr",
     "output_type": "stream",
     "text": [
      "/tmp/ipykernel_1573079/3366589054.py:19: DeprecationWarning: an integer is required (got type numpy.float64).  Implicit conversion to integers using __int__ is deprecated, and may be removed in a future version of Python.\n",
      "  \"ratings\": torch.tensor(ratings, dtype=torch.long),\n",
      "/tmp/ipykernel_1573079/3366589054.py:19: DeprecationWarning: an integer is required (got type numpy.float64).  Implicit conversion to integers using __int__ is deprecated, and may be removed in a future version of Python.\n",
      "  \"ratings\": torch.tensor(ratings, dtype=torch.long),\n",
      "/workspace/shared/apps/anaconda3/envs/torch190/lib/python3.8/site-packages/torch/nn/modules/loss.py:528: UserWarning: Using a target size (torch.Size([4, 1])) that is different to the input size (torch.Size([4, 4])). This will likely lead to incorrect results due to broadcasting. Please ensure they have the same size.\n",
      "  return F.mse_loss(input, target, reduction=self.reduction)\n"
     ]
    },
    {
     "name": "stdout",
     "output_type": "stream",
     "text": [
      "epoch 0 loss at step: 5000 is 2.67913779668808\n",
      "epoch 0 loss at step: 10000 is 2.512531473302841\n",
      "epoch 0 loss at step: 15000 is 2.371936664915085\n",
      "epoch 0 loss at step: 20000 is 2.178830087709427\n",
      "epoch 0 loss at step: 25000 is 2.0617033567905425\n",
      "epoch 0 loss at step: 30000 is 1.9494199245452881\n",
      "epoch 0 loss at step: 35000 is 1.8298495384693145\n",
      "epoch 0 loss at step: 40000 is 1.7433323801279068\n",
      "epoch 0 loss at step: 45000 is 1.6428947719812392\n",
      "epoch 0 loss at step: 50000 is 1.5580266164779664\n",
      "epoch 0 loss at step: 55000 is 1.521391928434372\n",
      "epoch 0 loss at step: 60000 is 1.423901296043396\n",
      "epoch 0 loss at step: 65000 is 1.3849665390253068\n",
      "epoch 0 loss at step: 70000 is 1.3135926964521407\n",
      "epoch 0 loss at step: 75000 is 1.3041538632631302\n",
      "epoch 0 loss at step: 80000 is 1.2365363868117332\n",
      "epoch 0 loss at step: 85000 is 1.188675112247467\n",
      "epoch 0 loss at step: 90000 is 1.1474454346895218\n"
     ]
    }
   ],
   "source": [
    "epochs = 1\n",
    "total_loss = 0\n",
    "plot_steps, print_steps = 5000, 5000\n",
    "step_cnt = 0\n",
    "all_losses_list = [] \n",
    "\n",
    "model.train() \n",
    "for epoch_i in range(epochs):\n",
    "    for i, train_data in enumerate(train_loader):\n",
    "        output = model(train_data[\"users\"].to(device), \n",
    "                       train_data[\"movies\"].to(device)\n",
    "                      ) \n",
    "        \n",
    "        # .view(4, -1) is to reshape the rating to match the shape of model output which is 4x1\n",
    "        rating = train_data[\"ratings\"].view(4, -1).to(torch.float32).to(device)\n",
    "\n",
    "        loss = loss_func(output, rating)\n",
    "        total_loss = total_loss + loss.sum().item()\n",
    "        optimizer.zero_grad()\n",
    "        loss.backward()\n",
    "        optimizer.step()\n",
    "\n",
    "        step_cnt = step_cnt + len(train_data[\"users\"])\n",
    "        \n",
    "\n",
    "        if(step_cnt % plot_steps == 0):\n",
    "            avg_loss = total_loss/(len(train_data[\"users\"]) * plot_steps)\n",
    "            print(f\"epoch {epoch_i} loss at step: {step_cnt} is {avg_loss}\")\n",
    "            all_losses_list.append(avg_loss)\n",
    "            total_loss = 0 # reset total_loss"
   ]
  },
  {
   "cell_type": "code",
   "execution_count": 29,
   "id": "59494282",
   "metadata": {},
   "outputs": [
    {
     "name": "stderr",
     "output_type": "stream",
     "text": [
      "/tmp/ipykernel_1573079/3366589054.py:19: DeprecationWarning: an integer is required (got type numpy.float64).  Implicit conversion to integers using __int__ is deprecated, and may be removed in a future version of Python.\n",
      "  \"ratings\": torch.tensor(ratings, dtype=torch.long),\n",
      "/tmp/ipykernel_1573079/3366589054.py:19: DeprecationWarning: an integer is required (got type numpy.float64).  Implicit conversion to integers using __int__ is deprecated, and may be removed in a future version of Python.\n",
      "  \"ratings\": torch.tensor(ratings, dtype=torch.long),\n"
     ]
    },
    {
     "name": "stdout",
     "output_type": "stream",
     "text": [
      "rms: 3.7906492731639703\n"
     ]
    }
   ],
   "source": [
    "from sklearn.metrics import mean_squared_error\n",
    "\n",
    "model_output_list = []\n",
    "target_rating_list = []\n",
    "\n",
    "model.eval()\n",
    "\n",
    "with torch.no_grad():\n",
    "    for i, batched_data in enumerate(validation_loader): \n",
    "        model_output = model(batched_data['users'].to(device), \n",
    "                       batched_data[\"movies\"].to(device))\n",
    "        \n",
    "        model_output_list.append(model_output.sum().item() / len(batched_data['users']) )\n",
    "\n",
    "        target_rating = batched_data[\"ratings\"].to(device)\n",
    "        \n",
    "        target_rating_list.append(target_rating.sum().item() / len(batched_data['users']))\n",
    "\n",
    "#         print(f\"model_output: {model_output}, target_rating: {target_rating}\")\n",
    "\n",
    "\n",
    "# squared If True returns MSE value, if False returns RMSE value.\n",
    "rms = mean_squared_error(target_rating_list, model_output_list, squared=False)\n",
    "print(f\"rms: {rms}\")"
   ]
  },
  {
   "cell_type": "code",
   "execution_count": 30,
   "id": "a8c8c50e",
   "metadata": {},
   "outputs": [
    {
     "name": "stderr",
     "output_type": "stream",
     "text": [
      "/tmp/ipykernel_1573079/3366589054.py:19: DeprecationWarning: an integer is required (got type numpy.float64).  Implicit conversion to integers using __int__ is deprecated, and may be removed in a future version of Python.\n",
      "  \"ratings\": torch.tensor(ratings, dtype=torch.long),\n",
      "/tmp/ipykernel_1573079/3366589054.py:19: DeprecationWarning: an integer is required (got type numpy.float64).  Implicit conversion to integers using __int__ is deprecated, and may be removed in a future version of Python.\n",
      "  \"ratings\": torch.tensor(ratings, dtype=torch.long),\n"
     ]
    }
   ],
   "source": [
    "from collections import defaultdict\n",
    "\n",
    "# a dict that stores a list of predicted rating and actual rating pair for each user \n",
    "user_est_true = defaultdict(list)\n",
    "\n",
    "# iterate through the validation data to build the user-> [(y1, y1_hat), (y2, y2_hat)...]   \n",
    "with torch.no_grad():\n",
    "    for i, batched_data in enumerate(validation_loader): \n",
    "        users = batched_data['users']\n",
    "        movies = batched_data['movies']\n",
    "        ratings = batched_data['ratings']\n",
    "        \n",
    "        model_output = model(batched_data['users'].to(device), batched_data[\"movies\"].to(device))\n",
    "\n",
    "        for i in range(len(users)):\n",
    "            user_id = users[i].item()\n",
    "            movie_id = movies[i].item() \n",
    "            pred_rating = model_output[i][0].item()\n",
    "            true_rating = ratings[i].item()\n",
    "            \n",
    "#             print(f\"{user_id}, {movie_id}, {pred_rating}, {true_rating}\")\n",
    "            user_est_true[user_id].append((pred_rating, true_rating))            \n"
   ]
  },
  {
   "cell_type": "code",
   "execution_count": 31,
   "id": "36cc1b48",
   "metadata": {},
   "outputs": [],
   "source": [
    "with torch.no_grad():\n",
    "    precisions = dict()\n",
    "    recalls = dict()\n",
    "\n",
    "    k=10\n",
    "    threshold=3.5\n",
    "\n",
    "    for uid, user_ratings in user_est_true.items():\n",
    "\n",
    "        # Sort user ratings by estimated value. \n",
    "        user_ratings.sort(key=lambda x: x[0], reverse=True)\n",
    "\n",
    "        # 这里 get the number of actual relevant item\n",
    "        n_rel = sum((true_r >= threshold) for (_, true_r) in user_ratings)\n",
    "\n",
    "        # 这里 get the number of recommended item that are predicted relevent and within topk\n",
    "        n_rec_k = sum((est >= threshold) for (est, _) in user_ratings[:k])\n",
    "\n",
    "        # 这里 get the number of recommented item that' is also actually relevant within topk\n",
    "        n_rel_and_rec_k = sum(\n",
    "            ((true_r >= threshold) and (est >= threshold))\n",
    "            for (est, true_r) in user_ratings[:k]\n",
    "        )\n",
    "\n",
    "#         print(f\"uid {uid},  n_rel {n_rel}, n_rec_k {n_rec_k}, n_rel_and_rec_k {n_rel_and_rec_k}\")\n",
    "\n",
    "        # Precision@K: Proportion of recommended items that are relevant\n",
    "        # When n_rec_k is 0, Precision is undefined. We here set it to 0.\n",
    "\n",
    "        precisions[uid] = n_rel_and_rec_k / n_rec_k if n_rec_k != 0 else 0\n",
    "\n",
    "        # Recall@K: Proportion of relevant items that are recommended\n",
    "        # When n_rel is 0, Recall is undefined. We here set it to 0.\n",
    "\n",
    "        recalls[uid] = n_rel_and_rec_k / n_rel if n_rel != 0 else 0"
   ]
  },
  {
   "cell_type": "code",
   "execution_count": 32,
   "id": "edd09e7a",
   "metadata": {},
   "outputs": [
    {
     "name": "stdout",
     "output_type": "stream",
     "text": [
      "precision @ 10: 0.35711772486772486\n",
      "recall @ 10 : 0.12584485741274626\n"
     ]
    }
   ],
   "source": [
    "# Precision and recall can then be averaged over all users\n",
    "print(f\"precision @ {k}: {sum(prec for prec in precisions.values()) / len(precisions)}\")\n",
    "\n",
    "print(f\"recall @ {k} : {sum(rec for rec in recalls.values()) / len(recalls)}\")\n"
   ]
  },
  {
   "cell_type": "code",
   "execution_count": null,
   "id": "8f3f98e8",
   "metadata": {},
   "outputs": [],
   "source": []
  }
 ],
 "metadata": {
  "kernelspec": {
   "display_name": "Python 3 (ipykernel)",
   "language": "python",
   "name": "python3"
  },
  "language_info": {
   "codemirror_mode": {
    "name": "ipython",
    "version": 3
   },
   "file_extension": ".py",
   "mimetype": "text/x-python",
   "name": "python",
   "nbconvert_exporter": "python",
   "pygments_lexer": "ipython3",
   "version": "3.8.15"
  }
 },
 "nbformat": 4,
 "nbformat_minor": 5
}
