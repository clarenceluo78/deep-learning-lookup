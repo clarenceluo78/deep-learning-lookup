{
  "cells": [
    {
      "cell_type": "markdown",
      "metadata": {
        "id": "sRz-twk8DnVt"
      },
      "source": [
        "# DDA4210 Tutorial 1: Ensemble Learning\n",
        "1. TA: Dong QIAO\n",
        "2. Email: dongqiao@link.cuhk.edu.cn\n",
        "3. Office: Big Room 74, SDS Research Space on 4th Floor of Zhixin Bldg.\n",
        "4. Version: Beta\n",
        "\n",
        "Date: Jan 12, 2023\n",
        "\n",
        "<img src = 'https://drive.google.com/uc?export=view&id=1MIvsVcct0YJJp-AvkWUvlM7Cv3JkkN8Y' width = '60%' alt = 'Random Forest'>"
      ]
    },
    {
      "cell_type": "markdown",
      "metadata": {
        "id": "uInRJgUWuGhY"
      },
      "source": [
        "# Introduction to Ensemble Learning"
      ]
    },
    {
      "cell_type": "markdown",
      "metadata": {
        "id": "gquhGl9axaOd"
      },
      "source": [
        "The goal of ensemble methods is to combine the predictions of several base estimators built with a given learning algorithm in order to improve generalizability / robustness over a single estimator.\n",
        "\n",
        "Two families of ensemble methods are usually distinguished:\n",
        "\n",
        "  - In averaging methods, the driving principle is to build several estimators independently and then to average their predictions. On average, the combined estimator is usually better than any of the single base estimator because its variance is reduced.\n",
        "\n",
        "    Examples: Bagging methods, Forests of randomized trees, …\n",
        "\n",
        "  - By contrast, in boosting methods, base estimators are built sequentially and one tries to reduce the bias of the combined estimator. The motivation is to combine several weak models to produce a powerful ensemble.\n",
        "\n",
        "    Examples: AdaBoost, Gradient Tree Boosting, …\n",
        "\n",
        "<img src = 'https://drive.google.com/uc?export=view&id=1o_Y1oKL8IPN0CiAbEqsQAt8K_hz_maiO' width = '60%' alt = 'Random Forest'>"
      ]
    },
    {
      "cell_type": "markdown",
      "metadata": {
        "id": "vybLra5luVx7"
      },
      "source": [
        "# Table of Contents"
      ]
    },
    {
      "cell_type": "markdown",
      "metadata": {
        "id": "x5yxgAP2A9uZ"
      },
      "source": [
        "This assignment has 3 parts. You will learn some typical models of ensemble learning on sythetic and real-world datasets, which will help you understand the idea of ensemble learning better and prepare you for the mini-project.\n",
        "- 4 Bagging\n",
        "  - 4.1 BaggingClassifier\n",
        "  - 4.2 BaggingRegressor\n",
        "  - 4.3 ___Exercise___\n",
        "- 5 Random Forest\n",
        "  - 5.1 RandomForestClassifier\n",
        "  - 5.2 RandomForestRegressor\n",
        "  - 5.3 ___Exercise___\n",
        "- 6 Boosting\n",
        "  - 6.1 AdaBoost\n",
        "  - 6.2 Gradient Boosting\n",
        "  - 6.3 ___Exercise___\n",
        "- 7 Comparative Analysis (Optional)"
      ]
    },
    {
      "cell_type": "markdown",
      "metadata": {
        "id": "an_E6LXFudYq"
      },
      "source": [
        "# Bagging Meta-Estimator"
      ]
    },
    {
      "cell_type": "markdown",
      "metadata": {
        "id": "C2AYph4OGO0c"
      },
      "source": [
        "In ensemble algorithms, bagging methods form a class of algorithms which build several instances of a black-box estimator on random subsets of the original training set and then aggregate their individual predictions to form a final prediction. These methods are used as a way to reduce the variance of a base estimator (e.g., a decision tree). \n",
        "\n",
        "In many cases, bagging methods constitute a very simple way to improve with respect to a single model, without making it necessary to adapt the underlying base algorithm.\n",
        "\n",
        "Bagging methods come in many flavours but mostly differ from each other by the way they draw random subsets of the training set:\n",
        "\n",
        "  - When random subsets of the dataset are drawn as random subsets of the samples, then this algorithm is known as Pasting [B1999].\n",
        "\n",
        "  - When samples are drawn with replacement, then the method is known as Bagging [B1996].\n",
        "\n",
        "  - When random subsets of the dataset are drawn as random subsets of the features, then the method is known as Random Subspaces [H1998].\n",
        "\n",
        "  - Finally, when base estimators are built on subsets of both samples and features, then the method is known as Random Patches [LG2012].\n",
        "\n",
        "In scikit-learn, bagging methods are offered as a unified [BaggingClassifier]() meta-estimator (resp. [BaggingRegressor]()), taking as input a user-specified estimator along with parameters specifying the strategy to draw random subsets. \n",
        "  - In particular, `max_samples` and `max_features` control the size of the subsets (in terms of samples and features), \n",
        "  - while `bootstrap` and `bootstrap_features` control whether samples and features are drawn with or without replacement. \n",
        "  - When using a subset of the available samples the generalization accuracy can be estimated with the out-of-bag samples by setting `oob_score=True`."
      ]
    },
    {
      "cell_type": "markdown",
      "metadata": {
        "id": "0PawN10C0Xzx"
      },
      "source": [
        "## BaggingClassifier "
      ]
    },
    {
      "cell_type": "markdown",
      "metadata": {
        "id": "HuDP-txm0rZm"
      },
      "source": [
        "A Bagging classifier is an ensemble meta-estimator that fits base classifiers each on random subsets of the original dataset and then aggregate their individual predictions (either by voting or by averaging) to form a final prediction. Such a meta-estimator can typically be used as a way to reduce the variance of a black-box estimator (e.g., a decision tree), by introducing randomization into its construction procedure and then making an ensemble out of it."
      ]
    },
    {
      "cell_type": "code",
      "execution_count": 1,
      "metadata": {
        "colab": {
          "base_uri": "https://localhost:8080/"
        },
        "id": "qSUrH1ZnF9Hi",
        "outputId": "58e12150-afdb-4b87-b017-45fb559b7f92"
      },
      "outputs": [
        {
          "output_type": "execute_result",
          "data": {
            "text/plain": [
              "array([1])"
            ]
          },
          "metadata": {},
          "execution_count": 1
        }
      ],
      "source": [
        "from sklearn.svm import SVC # meta estimator\n",
        "from sklearn.ensemble import BaggingClassifier # Bagging model\n",
        "from sklearn.datasets import make_classification\n",
        "X, y = make_classification(n_samples=100, n_features=4,\n",
        "                           n_informative=2, n_redundant=0,\n",
        "                           random_state=0, shuffle=False)\n",
        "\n",
        "#####################################################################\n",
        "# TODO: Instantiate BaggingClassifier.                              #\n",
        "#####################################################################\n",
        "clf = BaggingClassifier(base_estimator = SVC(), n_estimators = 10, random_state = 0)\n",
        "clf.fit(X, y)\n",
        "#####################################################################\n",
        "#                        End of your code.                          #\n",
        "#####################################################################\n",
        "\n",
        "clf.predict([[0, 0, 0, 0]])"
      ]
    },
    {
      "cell_type": "markdown",
      "metadata": {
        "id": "jGCBwNQ40lhT"
      },
      "source": [
        "## BaggingRegressor"
      ]
    },
    {
      "cell_type": "markdown",
      "metadata": {
        "id": "LredIV8D0qlR"
      },
      "source": [
        "A Bagging regressor is an ensemble meta-estimator that fits base regressors each on random subsets of the original dataset and then aggregate their individual predictions (either by voting or by averaging) to form a final prediction. Such a meta-estimator can typically be used as a way to reduce the variance of a black-box estimator (e.g., a decision tree), by introducing randomization into its construction procedure and then making an ensemble out of it."
      ]
    },
    {
      "cell_type": "code",
      "execution_count": 3,
      "metadata": {
        "colab": {
          "base_uri": "https://localhost:8080/"
        },
        "id": "1A3O6pTi0lst",
        "outputId": "d8154b7f-2997-4f19-a7f0-42ea452232c4"
      },
      "outputs": [
        {
          "output_type": "execute_result",
          "data": {
            "text/plain": [
              "array([-2.87202411])"
            ]
          },
          "metadata": {},
          "execution_count": 3
        }
      ],
      "source": [
        "from sklearn.svm import SVR\n",
        "from sklearn.ensemble import BaggingRegressor\n",
        "from sklearn.datasets import make_regression\n",
        "X, y = make_regression(n_samples=100, n_features=4,\n",
        "                       n_informative=2, n_targets=1,\n",
        "                       random_state=0, shuffle=False)\n",
        "\n",
        "#####################################################################\n",
        "# TODO: Instantiate BaggingRegressor                                #\n",
        "#####################################################################\n",
        "regr = BaggingRegressor(base_estimator = SVR(), n_estimators= 10, random_state= 0).fit(X, y)\n",
        "#####################################################################\n",
        "#                        End of your code.                          #\n",
        "#####################################################################\n",
        "\n",
        "regr.predict([[0, 0, 0, 0]])"
      ]
    },
    {
      "cell_type": "markdown",
      "metadata": {
        "id": "-EBoFDpy5J7w"
      },
      "source": [
        "## Exercise"
      ]
    },
    {
      "cell_type": "code",
      "execution_count": 4,
      "metadata": {
        "colab": {
          "base_uri": "https://localhost:8080/",
          "height": 662
        },
        "id": "sh7eCNzr5ObY",
        "outputId": "8777160e-c356-4dba-913f-46a215048c57"
      },
      "outputs": [
        {
          "output_type": "display_data",
          "data": {
            "text/plain": [
              "<Figure size 792x792 with 4 Axes>"
            ],
            "image/png": "[encoded data removed]"
          },
          "metadata": {
            "needs_background": "light"
          }
        }
      ],
      "source": [
        "# Baggging decision trees in 2d\n",
        "# Based on https://github.com/ageron/handson-ml2/blob/master/06_decision_trees.ipynb\n",
        "\n",
        "\n",
        "import numpy as np\n",
        "import matplotlib.pyplot as plt\n",
        "import os\n",
        "\n",
        "try:\n",
        "    from sklearn.metrics import accuracy_score\n",
        "except ModuleNotFoundError:\n",
        "    %pip install -qq scikit-learn\n",
        "    from sklearn.metrics import accuracy_score\n",
        "\n",
        "\n",
        "#####################################################################\n",
        "# TODO: Import BaggingClassifier and meta-estimator                 #\n",
        "#####################################################################\n",
        "from sklearn.ensemble import BaggingClassifier\n",
        "from sklearn.tree import DecisionTreeClassifier\n",
        "#####################################################################\n",
        "#                        End of your code.                          #\n",
        "#####################################################################\n",
        "\n",
        "from matplotlib.colors import ListedColormap\n",
        "\n",
        "from sklearn.model_selection import train_test_split\n",
        "from sklearn.datasets import make_moons\n",
        "\n",
        "X, y = make_moons(n_samples=500, noise=0.30, random_state=42)\n",
        "X_train, X_test, y_train, y_test = train_test_split(X, y, random_state=42)\n",
        "\n",
        "\n",
        "def plot_decision_boundary(clf, X, y, axes=[-1.5, 2.45, -1, 1.5], alpha=0.5, contour=True):\n",
        "    x1s = np.linspace(axes[0], axes[1], 100)\n",
        "    x2s = np.linspace(axes[2], axes[3], 100)\n",
        "    x1, x2 = np.meshgrid(x1s, x2s)\n",
        "    X_new = np.c_[x1.ravel(), x2.ravel()]\n",
        "    y_pred = clf.predict(X_new).reshape(x1.shape)\n",
        "    custom_cmap = ListedColormap([\"#fafab0\", \"#9898ff\", \"#a0faa0\"])\n",
        "    plt.contourf(x1, x2, y_pred, alpha=0.3, cmap=custom_cmap)\n",
        "    if contour:\n",
        "        custom_cmap2 = ListedColormap([\"#7d7d58\", \"#4c4c7f\", \"#507d50\"])\n",
        "        plt.contour(x1, x2, y_pred, cmap=custom_cmap2, alpha=0.8)\n",
        "    plt.plot(X[:, 0][y == 0], X[:, 1][y == 0], \"yo\", alpha=alpha)\n",
        "    plt.plot(X[:, 0][y == 1], X[:, 1][y == 1], \"bs\", alpha=alpha)\n",
        "    plt.axis(axes)\n",
        "    plt.xlabel(r\"\", fontsize=18)\n",
        "    plt.ylabel(r\"\", fontsize=18, rotation=0)\n",
        "\n",
        "\n",
        "#####################################################################\n",
        "# TODO: Instantiate DecisionTreeClassifier                          #\n",
        "#####################################################################\n",
        "tree_clf = DecisionTreeClassifier(random_state = 42).fit(X_train, y_train)\n",
        "#####################################################################\n",
        "#                        End of your code.                          #\n",
        "#####################################################################\n",
        "\n",
        "y_pred_tree = tree_clf.predict(X_test)\n",
        "\n",
        "\n",
        "dtree_acc = accuracy_score(y_test, y_pred_tree)\n",
        "\n",
        "\n",
        "# plt.figure()\n",
        "plt.figure(figsize=(11,11)) # modified by me\n",
        "\n",
        "plt.subplot(221) # modified by me\n",
        "plot_decision_boundary(tree_clf, X, y)\n",
        "plt.title(\"Decision Tree, test accuracy={:0.2f}\".format(dtree_acc))\n",
        "# plt.savefig(\"figures/dtree_bag_size0.pdf\", dpi=300)\n",
        "# plt.show()\n",
        "\n",
        "bag_sizes = [10, 50, 100]\n",
        "for i, bag_size in enumerate(bag_sizes): # modified by me\n",
        "    bag_clf = BaggingClassifier(\n",
        "        DecisionTreeClassifier(random_state=42),\n",
        "        #####################################################################\n",
        "        # TODO: Specify the number of meta estimators                       #\n",
        "        #####################################################################\n",
        "        n_estimators = bag_size\n",
        "        #####################################################################\n",
        "        #                        End of your code.                          #\n",
        "        #####################################################################\n",
        "        \n",
        "        ,max_samples=100, bootstrap=True, random_state=42\n",
        "    )\n",
        "    bag_clf.fit(X_train, y_train)\n",
        "    y_pred = bag_clf.predict(X_test)\n",
        "    bag_acc = accuracy_score(y_test, y_pred)\n",
        "\n",
        "    # plt.figure()\n",
        "    plt.subplot(222 + i) # modified by me\n",
        "    plot_decision_boundary(bag_clf, X, y)\n",
        "    plt.title(\"Bag of {} decision trees, test accuracy={:0.2f}\".format(bag_size, bag_acc))\n",
        "    # plt.savefig(\"figures/dtree_bag_size{}.pdf\".format(bag_size), dpi=300)\n",
        "    # plt.show()\n",
        "\n",
        "plt.show()"
      ]
    },
    {
      "cell_type": "markdown",
      "metadata": {
        "id": "7VY380vOu0oG"
      },
      "source": [
        "# Random Forests"
      ]
    },
    {
      "cell_type": "markdown",
      "metadata": {
        "id": "MrqoT9SHMErS"
      },
      "source": [
        "In random forests (see [RandomForestClassifier]() and [RandomForestRegressor]() classes), each tree in the ensemble is built from a sample drawn with replacement (i.e., a bootstrap sample) from the training set.\n",
        "\n",
        "Furthermore, when splitting each node during the construction of a tree, the best split is found either from all input features or a random subset of size `max_features`. (See the [parameter tuning guidelines]() for more details).\n",
        "\n",
        "The purpose of these two sources of randomness is to decrease the variance of the forest estimator. Indeed, individual decision trees typically exhibit high variance and tend to overfit. The injected randomness in forests yield decision trees with somewhat decoupled prediction errors. By taking an average of those predictions, some errors can cancel out. Random forests achieve a reduced variance by combining diverse trees, sometimes at the cost of a slight increase in bias. In practice the variance reduction is often significant hence yielding an overall better model."
      ]
    },
    {
      "cell_type": "markdown",
      "metadata": {
        "id": "74jsT9Au2M77"
      },
      "source": [
        "## RandomForestClassifier"
      ]
    },
    {
      "cell_type": "markdown",
      "metadata": {
        "id": "jubcf1Ko2NFZ"
      },
      "source": [
        "A random forest is a meta estimator that fits a number of decision tree classifiers on various sub-samples of the dataset and uses averaging to improve the predictive accuracy and control over-fitting. The sub-sample size is controlled with the `max_samples` parameter if `bootstrap=True` (default), otherwise the whole dataset is used to build each tree."
      ]
    },
    {
      "cell_type": "code",
      "execution_count": 5,
      "metadata": {
        "colab": {
          "base_uri": "https://localhost:8080/"
        },
        "id": "70NUnBtX2NZm",
        "outputId": "d9b5c69e-62a0-46cb-acba-dc2aa99e8a70"
      },
      "outputs": [
        {
          "output_type": "stream",
          "name": "stdout",
          "text": [
            "[1]\n"
          ]
        }
      ],
      "source": [
        "from sklearn.ensemble import RandomForestClassifier\n",
        "from sklearn.datasets import make_classification\n",
        "X, y = make_classification(n_samples=1000, n_features=4,\n",
        "                           n_informative=2, n_redundant=0,\n",
        "                           random_state=0, shuffle=False)\n",
        "\n",
        "#####################################################################\n",
        "# TODO: Instantiate RandomForestClassifier                          #\n",
        "#####################################################################\n",
        "clf = RandomForestClassifier(max_depth = 2, random_state = 0)\n",
        "clf.fit(X, y)\n",
        "#RandomForestClassifier(...)\n",
        "#####################################################################\n",
        "#                        End of your code.                          #\n",
        "#####################################################################\n",
        "\n",
        "print(clf.predict([[0, 0, 0, 0]]))"
      ]
    },
    {
      "cell_type": "markdown",
      "metadata": {
        "id": "oONystVo2Nub"
      },
      "source": [
        "## RandomForestRegressor"
      ]
    },
    {
      "cell_type": "markdown",
      "metadata": {
        "id": "MDY4-MZO2N3H"
      },
      "source": [
        "A random forest is a meta estimator that fits a number of classifying decision trees on various sub-samples of the dataset and uses averaging to improve the predictive accuracy and control over-fitting. The sub-sample size is controlled with the `max_samples` parameter if `bootstrap=True` (default), otherwise the whole dataset is used to build each tree."
      ]
    },
    {
      "cell_type": "code",
      "execution_count": 6,
      "metadata": {
        "colab": {
          "base_uri": "https://localhost:8080/"
        },
        "id": "lQj7rn0b2OFi",
        "outputId": "70457736-518f-4bbd-ece4-12e6d1932fc7"
      },
      "outputs": [
        {
          "output_type": "stream",
          "name": "stdout",
          "text": [
            "[-8.32987858]\n"
          ]
        }
      ],
      "source": [
        "from sklearn.ensemble import RandomForestRegressor\n",
        "from sklearn.datasets import make_regression\n",
        "X, y = make_regression(n_features=4, n_informative=2,\n",
        "                       random_state=0, shuffle=False)\n",
        "\n",
        "#####################################################################\n",
        "# TODO: Instantiate RandomForestRegressor                           #\n",
        "#####################################################################\n",
        "regr = RandomForestRegressor(max_depth= 2, random_state= 0).fit(X, y)\n",
        "#RandomForestRegressor(...)\n",
        "#####################################################################\n",
        "#                        End of your code.                          #\n",
        "#####################################################################\n",
        "\n",
        "print(regr.predict([[0, 0, 0, 0]]))"
      ]
    },
    {
      "cell_type": "markdown",
      "metadata": {
        "id": "eePNvmciBmGv"
      },
      "source": [
        "## Exercise"
      ]
    },
    {
      "cell_type": "code",
      "execution_count": 8,
      "metadata": {
        "colab": {
          "base_uri": "https://localhost:8080/",
          "height": 315
        },
        "id": "2V3pBl4bvHGL",
        "outputId": "690081bd-4ea4-4b45-e8c7-564d9700f4bc"
      },
      "outputs": [
        {
          "output_type": "stream",
          "name": "stdout",
          "text": [
            "Elapsed time to compute the importances: 0.026 seconds\n"
          ]
        },
        {
          "output_type": "display_data",
          "data": {
            "text/plain": [
              "<Figure size 432x288 with 1 Axes>"
            ],
            "image/png": "[encoded data removed]"
          },
          "metadata": {
            "needs_background": "light"
          }
        }
      ],
      "source": [
        "# This example shows the use of a forest of trees to evaluate the importance of features on an artificial classification task. \n",
        "# The blue bars are the feature importances of the forest, along with their inter-trees variability represented by the error bars.\n",
        "\n",
        "# step 1: Data generation and model fitting\n",
        "# We generate a synthetic dataset with only 3 informative features. \n",
        "# We will explicitly not shuffle the dataset to ensure that the informative features will correspond to the three first columns of X. \n",
        "# In addition, we will split our dataset into training and testing subsets.\n",
        "import matplotlib.pyplot as plt\n",
        "from sklearn.datasets import make_classification\n",
        "from sklearn.model_selection import train_test_split\n",
        "\n",
        "X, y = make_classification(\n",
        "    n_samples=1000,\n",
        "    n_features=10,\n",
        "    n_informative=3,\n",
        "    n_redundant=0,\n",
        "    n_repeated=0,\n",
        "    n_classes=2,\n",
        "    random_state=0,\n",
        "    shuffle=False,\n",
        ")\n",
        "X_train, X_test, y_train, y_test = train_test_split(X, y, stratify=y, random_state=42)\n",
        "\n",
        "#####################################################################\n",
        "# TODO: Import RandomForestClassifier                          #\n",
        "#####################################################################\n",
        "# A random forest classifier will be fitted to compute the feature importances.\n",
        "from sklearn.ensemble import RandomForestClassifier\n",
        "#####################################################################\n",
        "#                        End of your code.                          #\n",
        "#####################################################################\n",
        "\n",
        "feature_names = [f\"feature {i}\" for i in range(X.shape[1])]\n",
        "\n",
        "#####################################################################\n",
        "# TODO: Instantiate RandomForestClassifier                          #\n",
        "#####################################################################\n",
        "forest = RandomForestClassifier(random_state= 0 )\n",
        "#####################################################################\n",
        "#                        End of your code.                          #\n",
        "#####################################################################\n",
        "\n",
        "forest.fit(X_train, y_train)\n",
        "\n",
        "# step 2: Feature importance based on mean decrease in impurity\n",
        "# Feature importances are provided by the fitted attribute feature_importances_\n",
        "# and they are computed as the mean and standard deviation of accumulation of the impurity decrease within each tree.\n",
        "import time\n",
        "import numpy as np\n",
        "\n",
        "start_time = time.time()\n",
        "\n",
        "#####################################################################\n",
        "# TODO: acquire the importance of features                          #\n",
        "#####################################################################\n",
        "importances = forest.feature_importances_\n",
        "#####################################################################\n",
        "#                        End of your code.                          #\n",
        "#####################################################################\n",
        "\n",
        "std = np.std([tree.feature_importances_ for tree in forest.estimators_], axis=0)\n",
        "elapsed_time = time.time() - start_time\n",
        "\n",
        "print(f\"Elapsed time to compute the importances: {elapsed_time:.3f} seconds\")\n",
        "\n",
        "# Let’s plot the impurity-based importance.\n",
        "import pandas as pd\n",
        "\n",
        "forest_importances = pd.Series(importances, index=feature_names)\n",
        "\n",
        "fig, ax = plt.subplots()\n",
        "forest_importances.plot.bar(yerr=std, ax=ax)\n",
        "ax.set_title(\"Feature importances using MDI\")\n",
        "ax.set_ylabel(\"Mean decrease in impurity\")\n",
        "fig.tight_layout()"
      ]
    },
    {
      "cell_type": "markdown",
      "metadata": {
        "id": "NDZ6XGuZu95k"
      },
      "source": [
        "# Boosting"
      ]
    },
    {
      "cell_type": "markdown",
      "metadata": {
        "id": "wcjFQKwtL0Ma"
      },
      "source": [
        "The module [sklearn.ensemble]() includes the popular boosting algorithm AdaBoost, introduced in 1995 by Freund and Schapire [FS1995].\n",
        "\n",
        "The core principle of AdaBoost is to fit a sequence of weak learners (i.e., models that are only slightly better than random guessing, such as small decision trees) on repeatedly modified versions of the data. The predictions from all of them are then combined through a weighted majority vote (or sum) to produce the final prediction. The data modifications at each so-called boosting iteration consist of applying weights $w_1, w_2, …, w_N$ to each of the training samples. Initially, those weights are all set to $w_i = 1/N$, so that the first step simply trains a weak learner on the original data. For each successive iteration, the sample weights are individually modified and the learning algorithm is reapplied to the reweighted data. At a given step, those training examples that were incorrectly predicted by the boosted model induced at the previous step have their weights increased, whereas the weights are decreased for those that were predicted correctly. As iterations proceed, examples that are difficult to predict receive ever-increasing influence. Each subsequent weak learner is thereby forced to concentrate on the examples that are missed by the previous ones in the sequence [HTF]."
      ]
    },
    {
      "cell_type": "markdown",
      "metadata": {
        "id": "AFDXuEVCDOMp"
      },
      "source": [
        "## AdaBoost"
      ]
    },
    {
      "cell_type": "markdown",
      "metadata": {
        "id": "WQf-ZBjBLlyx"
      },
      "source": [
        "The following example shows how to fit an AdaBoost classifier with 100 weak learners:"
      ]
    },
    {
      "cell_type": "code",
      "execution_count": 9,
      "metadata": {
        "colab": {
          "base_uri": "https://localhost:8080/"
        },
        "id": "GecvYZ47d20y",
        "outputId": "d0851b46-e358-4fd4-d2f2-afef59121d3a"
      },
      "outputs": [
        {
          "output_type": "execute_result",
          "data": {
            "text/plain": [
              "0.9466666666666665"
            ]
          },
          "metadata": {},
          "execution_count": 9
        }
      ],
      "source": [
        "from sklearn.model_selection import cross_val_score\n",
        "from sklearn.datasets import load_iris\n",
        "from sklearn.ensemble import AdaBoostClassifier\n",
        "\n",
        "X, y = load_iris(return_X_y=True)\n",
        "\n",
        "#####################################################################\n",
        "# TODO: Instantiate AdaBoostClassifier                              #\n",
        "#####################################################################\n",
        "clf = AdaBoostClassifier(n_estimators= 100)\n",
        "#####################################################################\n",
        "#                        End of your code.                          #\n",
        "#####################################################################\n",
        "\n",
        "scores = cross_val_score(clf, X, y, cv=5)\n",
        "scores.mean()"
      ]
    },
    {
      "cell_type": "markdown",
      "metadata": {
        "id": "ZsZ_x_Gyd1u1"
      },
      "source": [
        "Explanation of hyparameters:\n",
        "  - The number of weak learners is controlled by the parameter `n_estimators`. \n",
        "  - The `learning_rate` parameter controls the contribution of the weak learners in the final combination. \n",
        "  - By default, weak learners are decision stumps. Different weak learners can be specified through the `estimator` parameter. \n",
        "  - The main parameters to tune to obtain good results are n_estimators and the complexity of the base estimators (e.g., its depth `max_depth` or minimum required number of samples to consider a split `min_samples_split`)."
      ]
    },
    {
      "cell_type": "markdown",
      "metadata": {
        "id": "uBCku5IRHDhM"
      },
      "source": [
        "## Gradient Tree Boosting"
      ]
    },
    {
      "cell_type": "markdown",
      "metadata": {
        "id": "lDPrxRTFOaIt"
      },
      "source": [
        "[Gradient Tree Boosting]() or Gradient Boosted Decision Trees (GBDT) is a generalization of boosting to arbitrary differentiable loss functions, see the seminal work of [Friedman2001]. GBDT is an accurate and effective off-the-shelf procedure that can be used for both regression and classification problems in a variety of areas including Web search ranking and ecology.\n",
        "\n",
        "The module [sklearn.ensemble]() provides methods for both classification and regression via gradient boosted decision trees.\n",
        "\n",
        "The usage and the parameters of [GradientBoostingClassifier]() and [GradientBoostingRegressor]() are described below. The 2 most important parameters of these estimators are `n_estimators` and `learning_rate`."
      ]
    },
    {
      "cell_type": "markdown",
      "metadata": {
        "id": "QUyGk1o8PZOU"
      },
      "source": [
        "### Classification"
      ]
    },
    {
      "cell_type": "markdown",
      "metadata": {
        "id": "vpxoIF15PemH"
      },
      "source": [
        "[GradientBoostingClassifier]() supports both binary and multi-class classification. The following example shows how to fit a gradient boosting classifier with 100 decision stumps as weak learners:"
      ]
    },
    {
      "cell_type": "code",
      "execution_count": 10,
      "metadata": {
        "colab": {
          "base_uri": "https://localhost:8080/"
        },
        "id": "QshreoJivIEt",
        "outputId": "8aa11c5e-5a62-4292-e56b-e10818f01366"
      },
      "outputs": [
        {
          "output_type": "execute_result",
          "data": {
            "text/plain": [
              "0.913"
            ]
          },
          "metadata": {},
          "execution_count": 10
        }
      ],
      "source": [
        "from sklearn.datasets import make_hastie_10_2\n",
        "from sklearn.ensemble import GradientBoostingClassifier\n",
        "\n",
        "X, y = make_hastie_10_2(random_state=0)\n",
        "X_train, X_test = X[:2000], X[2000:]\n",
        "y_train, y_test = y[:2000], y[2000:]\n",
        "\n",
        "#####################################################################\n",
        "# TODO: Instantiate GradientBoostingClassifier                      #\n",
        "#####################################################################\n",
        "clf = GradientBoostingClassifier(n_estimators= 100, learning_rate= 1.0, max_depth = 1, random_state= 0)\n",
        "clf.fit(X_train, y_train)\n",
        "#####################################################################\n",
        "#                        End of your code.                          #\n",
        "#####################################################################\n",
        "\n",
        "clf.score(X_test, y_test)"
      ]
    },
    {
      "cell_type": "markdown",
      "metadata": {
        "id": "TMQ-d-7LQTuq"
      },
      "source": [
        "Explanation of hyparameters:\n",
        "  - The number of weak learners (i.e. regression trees) is controlled by the parameter `n_estimators`;\n",
        "  - The size of each tree can be controlled either by setting the tree depth via `max_depth` or by setting the number of leaf nodes via `max_leaf_nodes`.\n",
        "  - The `learning_rate` is a hyper-parameter in the range (0.0, 1.0] that controls overfitting via shrinkage ."
      ]
    },
    {
      "cell_type": "markdown",
      "metadata": {
        "id": "jZMQms2URAUj"
      },
      "source": [
        "### Regression"
      ]
    },
    {
      "cell_type": "markdown",
      "metadata": {
        "id": "TZA6gN2VRG6t"
      },
      "source": [
        "[GradientBoostingRegressor]() supports a number of [different loss functions]() for regression which can be specified via the argument `loss`; the default loss function for regression is squared error (`'squared_error'`)."
      ]
    },
    {
      "cell_type": "code",
      "execution_count": 12,
      "metadata": {
        "colab": {
          "base_uri": "https://localhost:8080/"
        },
        "id": "OT0Z__gHRGQ3",
        "outputId": "c50399d7-0745-4f86-ab22-2968c8edef23"
      },
      "outputs": [
        {
          "output_type": "execute_result",
          "data": {
            "text/plain": [
              "5.009154859960321"
            ]
          },
          "metadata": {},
          "execution_count": 12
        }
      ],
      "source": [
        "import numpy as np\n",
        "from sklearn.metrics import mean_squared_error\n",
        "from sklearn.datasets import make_friedman1\n",
        "from sklearn.ensemble import GradientBoostingRegressor\n",
        "\n",
        "X, y = make_friedman1(n_samples=1200, random_state=0, noise=1.0)\n",
        "X_train, X_test = X[:200], X[200:]\n",
        "y_train, y_test = y[:200], y[200:]\n",
        "\n",
        "#####################################################################\n",
        "# TODO: Instantiate GradientBoostingRegressor                       #\n",
        "#####################################################################\n",
        "est = GradientBoostingRegressor(n_estimators= 100, learning_rate = 0.1, max_depth= 1, random_state = 0, loss = 'squared_error').fit(X_train, y_train)\n",
        "#####################################################################\n",
        "#                        End of your code.                          #\n",
        "#####################################################################\n",
        "\n",
        "mean_squared_error(y_test, est.predict(X_test))"
      ]
    },
    {
      "cell_type": "markdown",
      "metadata": {
        "id": "_2Mo0abWV5Cl"
      },
      "source": [
        "## Exercise"
      ]
    },
    {
      "cell_type": "code",
      "execution_count": 13,
      "metadata": {
        "colab": {
          "base_uri": "https://localhost:8080/",
          "height": 664
        },
        "id": "5ivnoNuJWut1",
        "outputId": "f2a99319-4f34-4828-80c3-68d76ddd2d6d"
      },
      "outputs": [
        {
          "output_type": "display_data",
          "data": {
            "text/plain": [
              "<Figure size 792x792 with 6 Axes>"
            ],
            "image/png": "[encoded data removed]"
          },
          "metadata": {
            "needs_background": "light"
          }
        }
      ],
      "source": [
        "# feature importance using random forests  on ,mnist\n",
        "# Based on https://github.com/ageron/handson-ml2/blob/master/06_decision_trees.ipynb\n",
        "\n",
        "import numpy as np\n",
        "import matplotlib.pyplot as plt\n",
        "import matplotlib as mpl\n",
        "\n",
        "np.random.seed(42)\n",
        "X = np.random.rand(100, 1) - 0.5\n",
        "y = 3*X[:, 0]**2 + 0.05 * np.random.randn(100)\n",
        "\n",
        "\n",
        "try:\n",
        "    from sklearn.tree import DecisionTreeRegressor\n",
        "except ModuleNotFoundError:\n",
        "    %pip install -qq scikit-learn\n",
        "    from sklearn.tree import DecisionTreeRegressor\n",
        "\n",
        "#####################################################################\n",
        "# TODO: Instantiate DecisionTreeRegressor                           #\n",
        "#####################################################################\n",
        "# the first weak learner\n",
        "tree_reg1 = DecisionTreeRegressor(max_depth= 2, random_state= 42)\n",
        "tree_reg1.fit(X, y)\n",
        "#####################################################################\n",
        "#                        End of your code.                          #\n",
        "#####################################################################\n",
        "\n",
        "\n",
        "# the second weak learner\n",
        "tree_reg2 = DecisionTreeRegressor(max_depth=2, random_state=42)\n",
        "#####################################################################\n",
        "# TODO: Intermediate step for boosting.                             #\n",
        "#####################################################################\n",
        "# based on the training strategy of gradient boosting\n",
        "y2 = y - tree_reg1.predict(X)\n",
        "tree_reg2.fit(X, y2)\n",
        "#####################################################################\n",
        "#                        End of your code.                          #\n",
        "#####################################################################\n",
        "\n",
        "# the third weak learner\n",
        "tree_reg3 = DecisionTreeRegressor(max_depth=2, random_state=42)\n",
        "#####################################################################\n",
        "# TODO: Intermediate step for boosting.                             #\n",
        "#####################################################################\n",
        "y3 = y2 - tree_reg2.predict(X)\n",
        "tree_reg3.fit(X, y3)\n",
        "#####################################################################\n",
        "#                        End of your code.                          #\n",
        "#####################################################################\n",
        "\n",
        "\n",
        "def plot_predictions(regressors, X, y, axes, label=None, style=\"r-\", data_style=\"b.\", data_label=None):\n",
        "    x1 = np.linspace(axes[0], axes[1], 500)\n",
        "    y_pred = sum(regressor.predict(x1.reshape(-1, 1)) for regressor in regressors)\n",
        "    plt.plot(X[:, 0], y, data_style, label=data_label)\n",
        "    plt.plot(x1, y_pred, style, linewidth=2, label=label)\n",
        "    if label or data_label:\n",
        "        plt.legend(loc=\"upper center\", fontsize=16)\n",
        "    plt.axis(axes)\n",
        "    \n",
        "plt.figure(figsize=(11,11))\n",
        "\n",
        "plt.subplot(321)\n",
        "plot_predictions([tree_reg1], X, y, axes=[-0.5, 0.5, -0.1, 0.8], label=\"\", style=\"g-\", data_label=\"Training set\")\n",
        "plt.ylabel(\"\", fontsize=16, rotation=0)\n",
        "plt.title(\"Residuals and tree predictions\", fontsize=16)\n",
        "\n",
        "plt.subplot(322)\n",
        "plot_predictions([tree_reg1], X, y, axes=[-0.5, 0.5, -0.1, 0.8], \n",
        "                 label=\"\", data_label=\"Training set\")\n",
        "plt.ylabel(\"\", fontsize=16, rotation=0)\n",
        "plt.title(\"Ensemble predictions\", fontsize=16)\n",
        "\n",
        "plt.subplot(323)\n",
        "plot_predictions([tree_reg2], X, y2, axes=[-0.5, 0.5, -0.5, 0.5],\n",
        "                 label=\"\", style=\"g-\", data_style=\"k+\", data_label=\"Residuals\")\n",
        "plt.ylabel(\"\", fontsize=16)\n",
        "\n",
        "plt.subplot(324)\n",
        "plot_predictions([tree_reg1, tree_reg2], X, y, axes=[-0.5, 0.5, -0.1, 0.8],\n",
        "                 label=\"\")\n",
        "plt.ylabel(\"\", fontsize=16, rotation=0)\n",
        "\n",
        "plt.subplot(325)\n",
        "plot_predictions([tree_reg3], X, y3, axes=[-0.5, 0.5, -0.5, 0.5], \n",
        "                 label=\"\", style=\"g-\", data_style=\"k+\")\n",
        "plt.ylabel(\"\", fontsize=16)\n",
        "plt.xlabel(\"\", fontsize=16)\n",
        "\n",
        "plt.subplot(326)\n",
        "plot_predictions([tree_reg1, tree_reg2, tree_reg3], X, y, \n",
        "                 axes=[-0.5, 0.5, -0.1, 0.8], \n",
        "                 label=\"\")\n",
        "plt.xlabel(\"\", fontsize=16)\n",
        "plt.ylabel(\"\", fontsize=16, rotation=0)\n",
        "\n",
        "# plt.savefig(\"figures/boosted_regr_trees.pdf\", dpi=300)\n",
        "plt.show()"
      ]
    },
    {
      "cell_type": "markdown",
      "metadata": {
        "id": "VVxo28a_7jxs"
      },
      "source": [
        "# Comparative analysis (Optional)"
      ]
    },
    {
      "cell_type": "code",
      "execution_count": 14,
      "metadata": {
        "colab": {
          "base_uri": "https://localhost:8080/",
          "height": 726
        },
        "id": "o6cELTOU7n8H",
        "outputId": "bdaa2ee6-37a7-4980-85b0-72f134eb2aac"
      },
      "outputs": [
        {
          "output_type": "stream",
          "name": "stdout",
          "text": [
            "Logistic Regression Test Error Rate: 7.6%\n",
            "RF 10 trees, test error 6.3%\n",
            "RF 50 trees, test error 5.0%\n",
            "RF 100 trees, test error 4.9%\n",
            "RF 200 trees, test error 4.8%\n",
            "RF 300 trees, test error 4.9%\n",
            "RF 400 trees, test error 4.8%\n",
            "RF 500 trees, test error 4.8%\n",
            "\u001b[2K     \u001b[90m━━━━━━━━━━━━━━━━━━━━━━━━━━━━━━━━━━━━━━━━\u001b[0m \u001b[32m76.6/76.6 MB\u001b[0m \u001b[31m8.7 MB/s\u001b[0m eta \u001b[36m0:00:00\u001b[0m\n",
            "\u001b[?25hBoosting 10 trees, test error 6.2%\n",
            "Boosting 50 trees, test error 5.4%\n",
            "Boosting 100 trees, test error 4.7%\n",
            "Boosting 200 trees, test error 4.6%\n",
            "Boosting 300 trees, test error 4.8%\n",
            "Boosting 400 trees, test error 4.6%\n",
            "Boosting 500 trees, test error 4.4%\n",
            "Bagged 10 trees, test error 5.9%\n",
            "Bagged 50 trees, test error 5.5%\n",
            "Bagged 100 trees, test error 5.4%\n",
            "Bagged 200 trees, test error 5.5%\n",
            "Bagged 300 trees, test error 5.5%\n",
            "Bagged 400 trees, test error 5.4%\n"
          ]
        },
        {
          "output_type": "stream",
          "name": "stderr",
          "text": [
            "WARNING:matplotlib.font_manager:findfont: Font family ['Arial'] not found. Falling back to DejaVu Sans.\n"
          ]
        },
        {
          "output_type": "stream",
          "name": "stdout",
          "text": [
            "Bagged 500 trees, test error 5.6%\n"
          ]
        },
        {
          "output_type": "display_data",
          "data": {
            "text/plain": [
              "<Figure size 432x288 with 1 Axes>"
            ],
            "image/png": "[encoded data removed]"
          },
          "metadata": {
            "needs_background": "light"
          }
        }
      ],
      "source": [
        "# Performance of tree ensembles. Based on the email spam example from chapter 10 of \"Elements of statistical learning\". Code is from Andrey Gaskov's site:\n",
        "\n",
        "# https://github.com/empathy87/The-Elements-of-Statistical-Learning-Python-Notebooks/blob/master/examples/Spam.ipynb\n",
        "\n",
        "\n",
        "# Commented out IPython magic to ensure Python compatibility.\n",
        "\n",
        "try:\n",
        "    import pandas as pd\n",
        "except ModuleNotFoundError:\n",
        "    %pip install -qq pandas\n",
        "    import pandas as pd\n",
        "from matplotlib import transforms, pyplot as plt\n",
        "import numpy as np\n",
        "\n",
        "try:\n",
        "    from sklearn.metrics import accuracy_score\n",
        "except ModuleNotFoundError:\n",
        "    %pip install -qq scikit-learn\n",
        "    from sklearn.metrics import accuracy_score\n",
        "\n",
        "# omit numpy warnings (don't do it in real work)\n",
        "np.seterr(divide=\"ignore\", invalid=\"ignore\")\n",
        "np.warnings.filterwarnings(\"ignore\")\n",
        "# %matplotlib inline\n",
        "\n",
        "# define plots common properties and color constants\n",
        "plt.rcParams[\"font.family\"] = \"Arial\"\n",
        "plt.rcParams[\"axes.linewidth\"] = 0.5\n",
        "ORANGE, BLUE, PURPLE = \"#FF8C00\", \"#0000FF\", \"#A020F0\"\n",
        "GRAY1, GRAY4, GRAY7 = \"#231F20\", \"#646369\", \"#929497\"\n",
        "\n",
        "\n",
        "# we will calculate train and test error rates for all models\n",
        "def error_rate(y_true, y_pred):\n",
        "    return 1 - accuracy_score(y_true, y_pred)\n",
        "\n",
        "\n",
        "\"\"\"Get data\"\"\"\n",
        "\n",
        "df = pd.read_csv(\n",
        "    \"https://github.com/empathy87/The-Elements-of-Statistical-Learning-Python-Notebooks/blob/master/data/Spam.txt?raw=True\"\n",
        ")\n",
        "df.head()\n",
        "\n",
        "# PAGE 301. We coded spam as 1 and email as zero. A test set of size 1536 was\n",
        "#           randomly chosen, leaving 3065 observations in the training set.\n",
        "target = \"spam\"\n",
        "columns = [\n",
        "    \"word_freq_make\",\n",
        "    \"word_freq_address\",\n",
        "    \"word_freq_all\",\n",
        "    \"word_freq_3d\",\n",
        "    \"word_freq_our\",\n",
        "    \"word_freq_over\",\n",
        "    \"word_freq_remove\",\n",
        "    \"word_freq_internet\",\n",
        "    \"word_freq_order\",\n",
        "    \"word_freq_mail\",\n",
        "    \"word_freq_receive\",\n",
        "    \"word_freq_will\",\n",
        "    \"word_freq_people\",\n",
        "    \"word_freq_report\",\n",
        "    \"word_freq_addresses\",\n",
        "    \"word_freq_free\",\n",
        "    \"word_freq_business\",\n",
        "    \"word_freq_email\",\n",
        "    \"word_freq_you\",\n",
        "    \"word_freq_credit\",\n",
        "    \"word_freq_your\",\n",
        "    \"word_freq_font\",\n",
        "    \"word_freq_000\",\n",
        "    \"word_freq_money\",\n",
        "    \"word_freq_hp\",\n",
        "    \"word_freq_hpl\",\n",
        "    \"word_freq_george\",\n",
        "    \"word_freq_650\",\n",
        "    \"word_freq_lab\",\n",
        "    \"word_freq_labs\",\n",
        "    \"word_freq_telnet\",\n",
        "    \"word_freq_857\",\n",
        "    \"word_freq_data\",\n",
        "    \"word_freq_415\",\n",
        "    \"word_freq_85\",\n",
        "    \"word_freq_technology\",\n",
        "    \"word_freq_1999\",\n",
        "    \"word_freq_parts\",\n",
        "    \"word_freq_pm\",\n",
        "    \"word_freq_direct\",\n",
        "    \"word_freq_cs\",\n",
        "    \"word_freq_meeting\",\n",
        "    \"word_freq_original\",\n",
        "    \"word_freq_project\",\n",
        "    \"word_freq_re\",\n",
        "    \"word_freq_edu\",\n",
        "    \"word_freq_table\",\n",
        "    \"word_freq_conference\",\n",
        "    \"char_freq_;\",\n",
        "    \"char_freq_(\",\n",
        "    \"char_freq_[\",\n",
        "    \"char_freq_!\",\n",
        "    \"char_freq_$\",\n",
        "    \"char_freq_#\",\n",
        "    \"capital_run_length_average\",\n",
        "    \"capital_run_length_longest\",\n",
        "    \"capital_run_length_total\",\n",
        "]\n",
        "# let's give columns more compact names\n",
        "features = [\n",
        "    \"make\",\n",
        "    \"address\",\n",
        "    \"all\",\n",
        "    \"3d\",\n",
        "    \"our\",\n",
        "    \"over\",\n",
        "    \"remove\",\n",
        "    \"internet\",\n",
        "    \"order\",\n",
        "    \"mail\",\n",
        "    \"receive\",\n",
        "    \"will\",\n",
        "    \"people\",\n",
        "    \"report\",\n",
        "    \"addresses\",\n",
        "    \"free\",\n",
        "    \"business\",\n",
        "    \"email\",\n",
        "    \"you\",\n",
        "    \"credit\",\n",
        "    \"your\",\n",
        "    \"font\",\n",
        "    \"000\",\n",
        "    \"money\",\n",
        "    \"hp\",\n",
        "    \"hpl\",\n",
        "    \"george\",\n",
        "    \"650\",\n",
        "    \"lab\",\n",
        "    \"labs\",\n",
        "    \"telnet\",\n",
        "    \"857\",\n",
        "    \"data\",\n",
        "    \"415\",\n",
        "    \"85\",\n",
        "    \"technology\",\n",
        "    \"1999\",\n",
        "    \"parts\",\n",
        "    \"pm\",\n",
        "    \"direct\",\n",
        "    \"cs\",\n",
        "    \"meeting\",\n",
        "    \"original\",\n",
        "    \"project\",\n",
        "    \"re\",\n",
        "    \"edu\",\n",
        "    \"table\",\n",
        "    \"conference\",\n",
        "    \"ch_;\",\n",
        "    \"ch(\",\n",
        "    \"ch[\",\n",
        "    \"ch!\",\n",
        "    \"ch$\",\n",
        "    \"ch#\",\n",
        "    \"CAPAVE\",\n",
        "    \"CAPMAX\",\n",
        "    \"CAPTOT\",\n",
        "]\n",
        "\n",
        "X, y = df[columns].values, df[target].values\n",
        "\n",
        "# split by test column value\n",
        "is_test = df.test.values\n",
        "X_train, X_test = X[is_test == 0], X[is_test == 1]\n",
        "y_train, y_test = y[is_test == 0], y[is_test == 1]\n",
        "\n",
        "\"\"\" Logistic regression\n",
        "\n",
        "As a sanity check, we try to match p301  test error rate of 7.6%.\n",
        "\n",
        "\"\"\"\n",
        "\n",
        "try:\n",
        "    import statsmodels.api as sm\n",
        "except ModuleNotFoundError:\n",
        "    %pip install -qq statsmodels\n",
        "    import statsmodels.api as sm\n",
        "from sklearn.metrics import accuracy_score\n",
        "\n",
        "lr_clf = sm.Logit(y_train, sm.add_constant(X_train)).fit(disp=False)\n",
        "# 0.5 is a threshold\n",
        "y_test_hat = (lr_clf.predict(sm.add_constant(X_test)) > 0.5).astype(int)\n",
        "lr_error_rate = error_rate(y_test, y_test_hat)\n",
        "print(f\"Logistic Regression Test Error Rate: {lr_error_rate*100:.1f}%\")\n",
        "\n",
        "\n",
        "# PAGE 590. A random forest classifier achieves 4.88% misclassification error\n",
        "#           on the spam test data, which compares well with all other methods,\n",
        "#           and is not significantly worse than gradient boosting at 4.5%.\n",
        "ntrees_list = [10, 50, 100, 200, 300, 400, 500]\n",
        "\n",
        "#####################################################################\n",
        "# TODO: Import RandomForestClassifier                               #\n",
        "#####################################################################\n",
        "from sklearn.ensemble import RandomForestClassifier\n",
        "#####################################################################\n",
        "#                        End of your code.                          #\n",
        "#####################################################################\n",
        "\n",
        "rf_errors = []\n",
        "for ntrees in ntrees_list:\n",
        "    #####################################################################\n",
        "    # TODO: Instantiate RandomForestClassifier                          #\n",
        "    #####################################################################\n",
        "    rf_clf = RandomForestClassifier(n_estimators= ntrees, random_state= 10).fit(X_train, y_train)\n",
        "    #####################################################################\n",
        "    #                        End of your code.                          #\n",
        "    #####################################################################\n",
        "\n",
        "    y_test_hat = rf_clf.predict(X_test)\n",
        "    rf_error_rate = error_rate(y_test, y_test_hat)\n",
        "    rf_errors.append(rf_error_rate)\n",
        "    print(f\"RF {ntrees} trees, test error {rf_error_rate*100:.1f}%\")\n",
        "\n",
        "try:\n",
        "    from catboost import CatBoostClassifier, Pool, cv\n",
        "except ModuleNotFoundError:\n",
        "    %pip install -qq catboost\n",
        "    from catboost import CatBoostClassifier, Pool, cv\n",
        "\n",
        "boost_errors = []\n",
        "for ntrees in ntrees_list:\n",
        "    #####################################################################\n",
        "    # TODO: Instantiate CatBoostClassifier                              #\n",
        "    #####################################################################\n",
        "    boost_clf = CatBoostClassifier(iterations = ntrees, random_state = 10, learning_rate = 0.2, verbose = False).fit(X_train, y_train)\n",
        "    #####################################################################\n",
        "    #                        End of your code.                          #\n",
        "    #####################################################################\n",
        "\n",
        "    y_test_hat = boost_clf.predict(X_test)\n",
        "    boost_error_rate = error_rate(y_test, y_test_hat)\n",
        "    boost_errors.append(boost_error_rate)\n",
        "    print(f\"Boosting {ntrees} trees, test error {boost_error_rate*100:.1f}%\")\n",
        "\n",
        "from sklearn.ensemble import BaggingClassifier\n",
        "\n",
        "bag_errors = []\n",
        "for ntrees in ntrees_list:\n",
        "    #####################################################################\n",
        "    # TODO: Instantiate BaggingClassifier                               #\n",
        "    #####################################################################\n",
        "    bag_clf = BaggingClassifier(n_estimators= ntrees, random_state = 10, bootstrap= True).fit(X_train, y_train)\n",
        "    ######################################################################\n",
        "    #                        End of your code.                          #\n",
        "    #####################################################################\n",
        "\n",
        "    y_test_hat = bag_clf.predict(X_test)\n",
        "    bag_error_rate = error_rate(y_test, y_test_hat)\n",
        "    bag_errors.append(bag_error_rate)\n",
        "    print(f\"Bagged {ntrees} trees, test error {bag_error_rate*100:.1f}%\")\n",
        "\n",
        "\n",
        "plt.figure()\n",
        "plt.plot(ntrees_list, rf_errors, \"o-\", color=\"blue\", label=\"RF\")\n",
        "plt.plot(ntrees_list, boost_errors, \"x-\", color=\"green\", label=\"Boosting\")\n",
        "plt.plot(ntrees_list, bag_errors, \"^-\", color=\"orange\", label=\"Bagging\")\n",
        "plt.legend()\n",
        "plt.xlabel(\"Number of trees\")\n",
        "plt.ylabel(\"Test error\")\n",
        "plt.tight_layout()\n",
        "# plt.savefig(\"figures/spam_tree_ensemble_compare.pdf\", dpi=300)\n",
        "plt.show()"
      ]
    },
    {
      "cell_type": "markdown",
      "metadata": {
        "id": "5Ptr01c6vI8j"
      },
      "source": [
        "# Recommended Materials\n",
        "\n"
      ]
    },
    {
      "cell_type": "markdown",
      "metadata": {
        "id": "Om7H4mUCvhKF"
      },
      "source": [
        "## Gradient Boosting regression"
      ]
    },
    {
      "cell_type": "markdown",
      "metadata": {
        "id": "LleFnrnd-2Sq"
      },
      "source": [
        "[A tutorial on gradient boosting regression](https://scikit-learn.org/stable/auto_examples/ensemble/plot_gradient_boosting_regression.html#sphx-glr-auto-examples-ensemble-plot-gradient-boosting-regression-py) can help you roughly understand a relatively complete process of ensemble learning."
      ]
    },
    {
      "cell_type": "markdown",
      "metadata": {
        "id": "xanQywICZuKK"
      },
      "source": [
        "## Categorical Feature Support in Gradient Boosting"
      ]
    },
    {
      "cell_type": "markdown",
      "metadata": {
        "id": "rxh_oaHwABE1"
      },
      "source": [
        "This [tutorial](https://scikit-learn.org/stable/auto_examples/ensemble/plot_gradient_boosting_categorical.html#sphx-glr-auto-examples-ensemble-plot-gradient-boosting-categorical-py) compares the training times and prediction performances of HistGradientBoostingRegressor with different encoding strategies for categorical features."
      ]
    },
    {
      "cell_type": "markdown",
      "metadata": {
        "id": "wmQmdVQNa0NO"
      },
      "source": [
        "## Histogram-Based Gradient Boosting"
      ]
    },
    {
      "cell_type": "markdown",
      "metadata": {
        "id": "Br1VM2yha6ro"
      },
      "source": [
        "Scikit-learn 0.21 introduced two new implementations of gradient boosting trees, namely [HistGradientBoostingClassifier]() and [HistGradientBoostingRegressor](), inspired by [LightGBM]() (See [LightGBM]).\n",
        "\n",
        "These histogram-based estimators can be __orders of magnitude faster__ than [GradientBoostingClassifier]() and [GradientBoostingRegressor]() when the number of samples is larger than tens of thousands of samples.\n",
        "\n",
        "They also have built-in support for missing values, which avoids the need for an imputer.\n",
        "\n",
        "The API of these estimators is slightly different, and some of the features from [GradientBoostingClassifier]() and [GradientBoostingRegressor]() are not yet supported, for instance some loss functions."
      ]
    },
    {
      "cell_type": "markdown",
      "metadata": {
        "id": "quEqNTkvvtPS"
      },
      "source": [
        "# References"
      ]
    },
    {
      "cell_type": "markdown",
      "metadata": {
        "id": "xTMG6iAOCcf8"
      },
      "source": [
        "1. Pedregosa, F., Varoquaux, G., Gramfort, A., Michel, V., Thirion, B., Grisel, O., ... & Duchesnay, E. (2011). Scikit-learn: Machine learning in Python. the Journal of machine Learning research, 12, 2825-2830.\n",
        "2. Murphy, K. P. (2022). Probabilistic machine learning: an introduction. MIT press."
      ]
    },
    {
      "cell_type": "code",
      "execution_count": null,
      "metadata": {
        "id": "aSDVUcIbEO6s"
      },
      "outputs": [],
      "source": []
    }
  ],
  "metadata": {
    "colab": {
      "provenance": []
    },
    "kernelspec": {
      "display_name": "Python 3 (ipykernel)",
      "language": "python",
      "name": "python3"
    },
    "language_info": {
      "codemirror_mode": {
        "name": "ipython",
        "version": 3
      },
      "file_extension": ".py",
      "mimetype": "text/x-python",
      "name": "python",
      "nbconvert_exporter": "python",
      "pygments_lexer": "ipython3",
      "version": "3.10.8"
    }
  },
  "nbformat": 4,
  "nbformat_minor": 0
}